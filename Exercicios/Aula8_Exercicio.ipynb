{
  "cells": [
    {
      "cell_type": "markdown",
      "metadata": {
        "id": "view-in-github",
        "colab_type": "text"
      },
      "source": [
        "<a href=\"https://colab.research.google.com/github/EdudardoM/skills-introduction-to-github/blob/main/Exercicios/Aula8_Exercicio.ipynb\" target=\"_parent\"><img src=\"https://colab.research.google.com/assets/colab-badge.svg\" alt=\"Open In Colab\"/></a>"
      ]
    },
    {
      "cell_type": "markdown",
      "metadata": {
        "id": "dyrfGARY5Ho9"
      },
      "source": [
        "# Aula 8 - Exercícios - Datetime e Regex"
      ]
    },
    {
      "cell_type": "markdown",
      "metadata": {
        "id": "isqhNh0K2rW7"
      },
      "source": [
        "### Documentação do Autograder [Link](https://github.com/alexlopespereira/mba_enap/blob/main/Exercicios/Autograder.ipynb)\n",
        "\n",
        "\n",
        "*   Link para o gabarito das questões\n",
        "*   Imports padrão\n",
        "*   Instalação\n",
        "*   Autenticaçao para nota\n",
        "*   Validação\n",
        "\n",
        "\n"
      ]
    },
    {
      "cell_type": "code",
      "execution_count": 1,
      "metadata": {
        "id": "RkNwKAd8kJz5"
      },
      "outputs": [],
      "source": [
        "!pip install --upgrade ipynb_autograde > /dev/null"
      ]
    },
    {
      "cell_type": "code",
      "execution_count": 2,
      "metadata": {
        "id": "WxBHNGxie9BB",
        "outputId": "f230f69f-0ddc-493a-9e61-73ae81388eff",
        "colab": {
          "base_uri": "https://localhost:8080/"
        }
      },
      "outputs": [
        {
          "output_type": "stream",
          "name": "stdout",
          "text": [
            "env: COURSE=mba_enap\n",
            "Go to the following link in your browser, and complete the sign-in prompts:\n",
            "\n",
            "    https://accounts.google.com/o/oauth2/auth?response_type=code&client_id=32555940559.apps.googleusercontent.com&redirect_uri=https%3A%2F%2Fsdk.cloud.google.com%2Fauthcode.html&scope=openid+https%3A%2F%2Fwww.googleapis.com%2Fauth%2Fuserinfo.email+https%3A%2F%2Fwww.googleapis.com%2Fauth%2Fcloud-platform+https%3A%2F%2Fwww.googleapis.com%2Fauth%2Fappengine.admin+https%3A%2F%2Fwww.googleapis.com%2Fauth%2Fsqlservice.login+https%3A%2F%2Fwww.googleapis.com%2Fauth%2Fcompute+https%3A%2F%2Fwww.googleapis.com%2Fauth%2Faccounts.reauth&state=7Wpc9YbPp9vv0vZT2i75len5wH06qO&prompt=consent&token_usage=remote&access_type=offline&code_challenge=WLHBwW5JxCmPBPO1CEQOTr1h3zKLMHHk7v49h8YEkS0&code_challenge_method=S256\n",
            "\n",
            "Once finished, enter the verification code provided in your browser: 4/0ASVgi3LtvmpmAqP6I6JWT4lyftxuV-3Hm61Zqlc_qCnNjCbExC_Q3aSPXjav_WCuUmMz2g\n",
            "\n",
            "You are now logged in as [dudammf@gmail.com].\n",
            "Your current project is [None].  You can change this setting by running:\n",
            "  $ gcloud config set project PROJECT_ID\n"
          ]
        }
      ],
      "source": [
        "%env  COURSE=mba_enap\n",
        "from ipynb_autograde.main import init_log, validate\n",
        "init_log()\n",
        "email_result=!gcloud config get-value account\n",
        "if not email_result or 'unset' in email_result[0]:\n",
        "  !gcloud auth login"
      ]
    },
    {
      "cell_type": "code",
      "execution_count": 5,
      "metadata": {
        "id": "fzizEpSQ5HpD"
      },
      "outputs": [],
      "source": [
        "# Importe a biblioteca pandas\n",
        "import pandas as pd\n",
        "import numpy as np\n",
        "import re\n",
        "import pandas as pd\n",
        "import datetime\n",
        "from datetime import datetime, date"
      ]
    },
    {
      "cell_type": "markdown",
      "metadata": {
        "id": "IHMAEQUa5HpF"
      },
      "source": [
        "### 8.1 Escreva um prompt de uma função python que use a biblioteca de regex para extrair o padrão monstrado nos exemplos a seguir.\n",
        "\n",
        "#### Entrada 1: ```\"abbb asde ababbaaabbbabbb\"```\n",
        "\n",
        "\n",
        "#### Saída 1: ```[\"abbb\", \"abbb\", \"abbb\"]```\n",
        "\n",
        "\n",
        "#### Entrada 2: ```\"ab bb bba aaa\"```\n",
        "\n",
        "\n",
        "#### Saída 2: ```[]```\n",
        "\n",
        "#### Entrada 3: ```\"abb bb bbabbba abaaba\"```\n",
        "\n",
        "\n",
        "#### Saída 3: ```[\"abbb\"]```\n",
        "\n",
        "\n"
      ]
    },
    {
      "cell_type": "code",
      "execution_count": 6,
      "metadata": {
        "id": "-hjPLU5CJ9oz"
      },
      "outputs": [],
      "source": [
        "d8_1_1 = \"abbb asde ababbaaabbbabbb\"\n",
        "d8_1_2 = \"ab bb bba aaa\"\n",
        "d8_1_3 = \"abb bb bbabbba abaaba\""
      ]
    },
    {
      "cell_type": "code",
      "source": [
        "# prompt: Gere um código utilizando regex que leia como um argumento uma string composta por um conjunto de letras separadas por espaço\n",
        "# o código deve retornar uma lista com os padrãos 'abbb' nos conjuntos de letras''\n",
        "\n",
        "import re\n",
        "\n",
        "def find_abbb_patterns(input_string):\n",
        "  \"\"\"\n",
        "  Finds all occurrences of the 'abbb' pattern in a string.\n",
        "\n",
        "  Args:\n",
        "    input_string: The input string to search.\n",
        "\n",
        "  Returns:\n",
        "    A list of strings, where each string is an occurrence of 'abbb'.\n",
        "  \"\"\"\n",
        "  pattern = r\"abbb\"  # Regular expression pattern to match \"abbb\"\n",
        "  matches = re.findall(pattern, input_string)\n",
        "  return matches\n"
      ],
      "metadata": {
        "id": "84bAeINbr2gh"
      },
      "execution_count": 51,
      "outputs": []
    },
    {
      "cell_type": "code",
      "source": [
        "find_abbb_patterns(d8_1_1)"
      ],
      "metadata": {
        "id": "TzWfKMokxGAQ",
        "outputId": "be170762-d88e-4c7a-ebe0-90bec942cb10",
        "colab": {
          "base_uri": "https://localhost:8080/"
        }
      },
      "execution_count": 52,
      "outputs": [
        {
          "output_type": "execute_result",
          "data": {
            "text/plain": [
              "['abbb', 'abbb', 'abbb']"
            ]
          },
          "metadata": {},
          "execution_count": 52
        }
      ]
    },
    {
      "cell_type": "code",
      "source": [
        "find_abbb_patterns(d8_1_2)"
      ],
      "metadata": {
        "id": "BTnJlpKswsYH",
        "outputId": "acd7a75e-70cc-4475-cfa2-840b499f9210",
        "colab": {
          "base_uri": "https://localhost:8080/"
        }
      },
      "execution_count": 53,
      "outputs": [
        {
          "output_type": "execute_result",
          "data": {
            "text/plain": [
              "[]"
            ]
          },
          "metadata": {},
          "execution_count": 53
        }
      ]
    },
    {
      "cell_type": "code",
      "source": [
        "find_abbb_patterns(d8_1_3)"
      ],
      "metadata": {
        "id": "lM-tEED6s0Vk",
        "outputId": "5a595a23-5e76-48d2-a755-33d7db10095e",
        "colab": {
          "base_uri": "https://localhost:8080/"
        }
      },
      "execution_count": 54,
      "outputs": [
        {
          "output_type": "execute_result",
          "data": {
            "text/plain": [
              "['abbb']"
            ]
          },
          "metadata": {},
          "execution_count": 54
        }
      ]
    },
    {
      "cell_type": "code",
      "execution_count": 55,
      "metadata": {
        "id": "uHOH0TBe5HpG",
        "nbgrader": {
          "grade": false,
          "grade_id": "cell-c705ab9d11473b9f9",
          "locked": false,
          "schema_version": 3,
          "solution": true,
          "task": false
        }
      },
      "outputs": [],
      "source": [
        "prompt81 = \"\"\"Gere um código utilizando regex que leia como um argumento uma string composta por um conjunto de letras separadas por espaço\n",
        "o código deve retornar uma lista com os padrãos 'abbb' nos conjuntos de letras''\"\"\""
      ]
    },
    {
      "cell_type": "code",
      "execution_count": 56,
      "metadata": {
        "id": "MKxwvOpc5HpI",
        "outputId": "7b118c9d-c96e-48eb-9e7d-38b28f45f680",
        "colab": {
          "base_uri": "https://localhost:8080/"
        }
      },
      "outputs": [
        {
          "output_type": "stream",
          "name": "stdout",
          "text": [
            "Codigo gerado: \n",
            "def encontrar_padroes_abbb(s):\n",
            "\n",
            "    padrao = re.compile(r'abbb')\n",
            "    return padrao.findall(s)\n",
            "\n",
            "✅ Passed Test Cases:\n",
            "  - Test ID: 1: ['abbb', 'abbb', 'abbb']\n",
            "  - Test ID: 2: []\n",
            "  - Test ID: 3: ['abbb']\n"
          ]
        }
      ],
      "source": [
        "validate(prompt81, \"A8-E1\")"
      ]
    },
    {
      "cell_type": "markdown",
      "metadata": {
        "id": "xw9NCw7u5HpK"
      },
      "source": [
        "### 8.2 Escreva um prompt de uma função python que use a biblioteca de regex para extrair o padrão monstrado nos exemplos a seguir.\n",
        "\n",
        "#### Entrada 1: ```\"33a307a\"```\n",
        "\n",
        "\n",
        "#### Saída 1: ```[]```\n",
        "\n",
        "\n",
        "#### Entrada 2: ```\"33a307\"```\n",
        "\n",
        "\n",
        "#### Saída 2: ```[\"307\"]```\n",
        "\n",
        "\n",
        "\n",
        "\n"
      ]
    },
    {
      "cell_type": "code",
      "execution_count": 57,
      "metadata": {
        "id": "pHQ8GDwLJ8_R"
      },
      "outputs": [],
      "source": [
        "d8_2_1 = \"33a307a\"\n",
        "d8_2_2 = \"33a307\""
      ]
    },
    {
      "cell_type": "code",
      "source": [
        "# prompt: Gere um código utilizando regex que leia como um argumento uma string composta por um conjunto de números e letras\n",
        "# o código deve retornar uma lista com o padrão '307' no final da string\n",
        "\n",
        "import re\n",
        "\n",
        "def find_307_pattern(input_string):\n",
        "    \"\"\"\n",
        "    Finds the '307' pattern at the end of a string using regex.\n",
        "\n",
        "    Args:\n",
        "        input_string: The input string to search.\n",
        "\n",
        "    Returns:\n",
        "        A list containing \"307\" if the pattern is found at the end, otherwise an empty list.\n",
        "    \"\"\"\n",
        "    pattern = r\"307$\"  # Matches \"307\" only at the end of the string\n",
        "    matches = re.findall(pattern, input_string)\n",
        "    return matches\n"
      ],
      "metadata": {
        "id": "w40PSXiK0-gj"
      },
      "execution_count": 59,
      "outputs": []
    },
    {
      "cell_type": "code",
      "source": [
        "find_307_pattern(d8_2_2)"
      ],
      "metadata": {
        "id": "VK104ht01RaB",
        "outputId": "e0104c47-24ba-4737-a8db-e493aefd44a2",
        "colab": {
          "base_uri": "https://localhost:8080/"
        }
      },
      "execution_count": 61,
      "outputs": [
        {
          "output_type": "execute_result",
          "data": {
            "text/plain": [
              "['307']"
            ]
          },
          "metadata": {},
          "execution_count": 61
        }
      ]
    },
    {
      "cell_type": "code",
      "execution_count": 64,
      "metadata": {
        "id": "O0Jvfk50CQW3",
        "nbgrader": {
          "grade": false,
          "grade_id": "cell-c705ab9d11473b9f9",
          "locked": false,
          "schema_version": 3,
          "solution": true,
          "task": false
        }
      },
      "outputs": [],
      "source": [
        "prompt82 = \"\"\"Gere um código utilizando regex que leia como um argumento uma string composta por um conjunto de números e letras\n",
        "o código deve identificar o padrão '307' no final da string e retorna o padrão numa lista\"\"\""
      ]
    },
    {
      "cell_type": "code",
      "execution_count": 65,
      "metadata": {
        "id": "-hCheU1DCQW-",
        "outputId": "75302c2d-c69b-45a4-c25f-56b944d00a76",
        "colab": {
          "base_uri": "https://localhost:8080/"
        }
      },
      "outputs": [
        {
          "output_type": "stream",
          "name": "stdout",
          "text": [
            "Codigo gerado: \n",
            "def encontrar_padrao(string):\n",
            "\n",
            "    padrao = re.search(r'307$', string)\n",
            "    if padrao:\n",
            "        return [padrao.group()]\n",
            "    return []\n",
            "\n",
            "✅ Passed Test Cases:\n",
            "  - Test ID: 1: []\n",
            "  - Test ID: 2: ['307']\n"
          ]
        }
      ],
      "source": [
        "validate(prompt82, \"A8-E2\")"
      ]
    },
    {
      "cell_type": "markdown",
      "metadata": {
        "id": "vVjFdewF5HpN"
      },
      "source": [
        "### 8.3 Escreva um prompt de uma função python para realizar a transformação monstrada no exemplo a seguir.\n",
        "#### **Dica:** O pandas só faz conta de datas dados do tipo datetime. Com o tipo string não é possível fazer operações matematicas de data.\n",
        "\n",
        "#### Entrada 1:  ```\"2021-05-11\"```\n",
        "\n",
        "\n",
        "#### Saída 1: ```[\"2021-05-10\", \"2021-05-12\"]```\n",
        "\n"
      ]
    },
    {
      "cell_type": "code",
      "source": [
        "# prompt: Gerar um código que leia como argumento um string\n",
        "# o código deve transformar o string para o padrão datetime como a seguinte forma aaaa-mm-dd\n",
        "# o código deve gerar uma lista que o primeiro elemento seja a data no dia antes e o segundo elemento a data no dia depois\n",
        "\n",
        "from datetime import datetime, timedelta\n",
        "\n",
        "def date_math(date_string):\n",
        "    \"\"\"\n",
        "    Transforms a date string to datetime format, calculates the previous and next days, and returns them as a list.\n",
        "\n",
        "    Args:\n",
        "        date_string: A string representing a date in 'YYYY-MM-DD' format.\n",
        "\n",
        "    Returns:\n",
        "        A list containing two strings representing the dates of the day before and the day after the input date.\n",
        "        Returns an empty list if the input date string is invalid.\n",
        "    \"\"\"\n",
        "    try:\n",
        "        date_object = datetime.strptime(date_string, '%Y-%m-%d').date()\n",
        "        previous_day = date_object - timedelta(days=1)\n",
        "        next_day = date_object + timedelta(days=1)\n",
        "        return [str(previous_day), str(next_day)]\n",
        "    except ValueError:\n",
        "        return []\n"
      ],
      "metadata": {
        "id": "P-Yqd0Pj2CNf"
      },
      "execution_count": 69,
      "outputs": []
    },
    {
      "cell_type": "code",
      "execution_count": 67,
      "metadata": {
        "id": "GKZfD7fTJ8hO"
      },
      "outputs": [],
      "source": [
        "d8_3_1 = \"2021-05-11\""
      ]
    },
    {
      "cell_type": "code",
      "source": [
        "date_math(d8_3_1)"
      ],
      "metadata": {
        "id": "VJ4KOChl27Gr",
        "outputId": "91596b16-5a3b-4cba-e9b7-9e786b9677b8",
        "colab": {
          "base_uri": "https://localhost:8080/"
        }
      },
      "execution_count": 70,
      "outputs": [
        {
          "output_type": "execute_result",
          "data": {
            "text/plain": [
              "['2021-05-10', '2021-05-12']"
            ]
          },
          "metadata": {},
          "execution_count": 70
        }
      ]
    },
    {
      "cell_type": "code",
      "execution_count": 1,
      "metadata": {
        "id": "RKDeWD-fCRXP",
        "nbgrader": {
          "grade": false,
          "grade_id": "cell-c705ab9d11473b9f9",
          "locked": false,
          "schema_version": 3,
          "solution": true,
          "task": false
        }
      },
      "outputs": [],
      "source": [
        "prompt83 = \"\"\"Gerar um código que leia como argumento um string\n",
        "o código deve transformar o string para o padrão data, utilizando datetime com datetime.datetime, com a forma aaaa-mm-dd\n",
        "o código deve gerar uma lista que o primeiro elemento seja a data no dia antes e o segundo elemento a data no dia depois\"\"\""
      ]
    },
    {
      "cell_type": "code",
      "execution_count": 2,
      "metadata": {
        "id": "2xb2vzFeCRXR",
        "outputId": "87520eb1-581d-4b54-e0f1-cecff4343b12",
        "colab": {
          "base_uri": "https://localhost:8080/",
          "height": 147
        }
      },
      "outputs": [
        {
          "output_type": "error",
          "ename": "NameError",
          "evalue": "name 'validate' is not defined",
          "traceback": [
            "\u001b[0;31m---------------------------------------------------------------------------\u001b[0m",
            "\u001b[0;31mNameError\u001b[0m                                 Traceback (most recent call last)",
            "\u001b[0;32m<ipython-input-2-64ac472b37df>\u001b[0m in \u001b[0;36m<cell line: 0>\u001b[0;34m()\u001b[0m\n\u001b[0;32m----> 1\u001b[0;31m \u001b[0mvalidate\u001b[0m\u001b[0;34m(\u001b[0m\u001b[0mprompt83\u001b[0m\u001b[0;34m,\u001b[0m \u001b[0;34m\"A8-E3\"\u001b[0m\u001b[0;34m)\u001b[0m\u001b[0;34m\u001b[0m\u001b[0;34m\u001b[0m\u001b[0m\n\u001b[0m",
            "\u001b[0;31mNameError\u001b[0m: name 'validate' is not defined"
          ]
        }
      ],
      "source": [
        "validate(prompt83, \"A8-E3\")"
      ]
    },
    {
      "cell_type": "markdown",
      "metadata": {
        "id": "cO1eUMZh5HpR"
      },
      "source": [
        "### 8.4 Escreva um prompt de uma função python para realizar a transformação monstrada no exemplo a seguir.\n",
        "#### **Dica:** O pandas só faz conta de datas dados do tipo datetime. Com o tipo string não é possível fazer operações matematicas de data.\n",
        "\n",
        "#### Entrada: ```{\"data\": [\"2011-09-02\", \"2012-08-04\", \"2013-09-03\"], \"0\": [-0.96, -0.05, -0.42]}```\n",
        "\n",
        "\n",
        "#### Saída:\n",
        "\n",
        "\n",
        "|    | data      |     0 |   mes |\n",
        "|---:|:-----------|------:|------:|\n",
        "|  0 | 2011-09-02 | -0.96 |     9 |\n",
        "|  1 | 2012-08-04 | -0.05 |     8 |\n",
        "|  2 | 2013-09-03 | -0.42 |     9 |\n"
      ]
    },
    {
      "cell_type": "code",
      "execution_count": null,
      "metadata": {
        "id": "Jm92RDL5J7we"
      },
      "outputs": [],
      "source": [
        "d8_4_1 = {\"data\": [\"2011-09-02\", \"2012-08-04\", \"2013-09-03\"], \"0\": [-0.96, -0.05, -0.42]}"
      ]
    },
    {
      "cell_type": "code",
      "execution_count": null,
      "metadata": {
        "id": "XukvxTEECSVo",
        "nbgrader": {
          "grade": false,
          "grade_id": "cell-c705ab9d11473b9f9",
          "locked": false,
          "schema_version": 3,
          "solution": true,
          "task": false
        }
      },
      "outputs": [],
      "source": [
        "prompt84 = \"\"\"AQUI\"\"\""
      ]
    },
    {
      "cell_type": "code",
      "execution_count": null,
      "metadata": {
        "id": "sfnmg1u2CSVr"
      },
      "outputs": [],
      "source": [
        "validate(prompt84, \"A8-E4\")"
      ]
    },
    {
      "cell_type": "markdown",
      "metadata": {
        "id": "nzEJf3jHAl1w"
      },
      "source": [
        "### 8.5 Escreva um prompt de uma função python utilizando a biblioteca de regex para extrair o padrão monstrado nos exemplos a seguir.\n",
        "\n",
        "#### Entrada: ```[\"(16) 91231-6165\", \"(16) 3231-6165\", \"16 91231-6165\", \"16 3231-6164\", \"3231-6165\", \"91231-616\"]```\n",
        "\n",
        "\n",
        "#### Saída: ```[\"(16) 91231-6165\", \"(16) 3231-6165\", \"16 91231-6165\", \"16 3231-6164\"]```\n"
      ]
    },
    {
      "cell_type": "code",
      "execution_count": null,
      "metadata": {
        "id": "Sq-1l0nZJ7Mo"
      },
      "outputs": [],
      "source": [
        "d8_5_1 = [\"(16) 91231-6165\", \"(16) 3231-6165\", \"16 91231-6165\", \"16 3231-6164\", \"3231-6165\", \"91231-616\"]"
      ]
    },
    {
      "cell_type": "code",
      "execution_count": null,
      "metadata": {
        "id": "lmcuYdJ8CTJc",
        "nbgrader": {
          "grade": false,
          "grade_id": "cell-c705ab9d11473b9f9",
          "locked": false,
          "schema_version": 3,
          "solution": true,
          "task": false
        }
      },
      "outputs": [],
      "source": [
        "prompt85 = \"\"\"AQUI\"\"\""
      ]
    },
    {
      "cell_type": "code",
      "execution_count": null,
      "metadata": {
        "id": "G8ekZAXSCTJc"
      },
      "outputs": [],
      "source": [
        "validate(prompt85, \"A8-E5\")"
      ]
    },
    {
      "cell_type": "markdown",
      "metadata": {
        "id": "0vsm5KZhAwHD"
      },
      "source": [
        "### 8.6 Escreva um prompt de uma função python para realizar a transformação monstrada no exemplo a seguir.\n",
        "#### **Dica:** Ultimo dia útil do **mês**. O pandas só faz conta de datas dados do tipo datetime. Com o tipo string não é possível fazer operações matematicas de data.\n",
        "#### Entrada: ```2024```\n",
        "\n",
        "\n",
        "#### Saída: Um dataframe igual a esse\n",
        "\n",
        "|    | Col1                | Col2      |\n",
        "|---:|:--------------------|:----------|\n",
        "|  0 | 2024-01-31 00:00:00 | Wednesday |\n",
        "|  1 | 2024-02-29 00:00:00 | Thursday  |\n",
        "|  2 | 2024-03-29 00:00:00 | Friday    |\n",
        "|  3 | 2024-04-30 00:00:00 | Tuesday   |\n",
        "|  4 | 2024-05-31 00:00:00 | Friday    |\n",
        "|  5 | 2024-06-28 00:00:00 | Friday    |\n",
        "|  6 | 2024-07-31 00:00:00 | Wednesday |\n",
        "|  7 | 2024-08-30 00:00:00 | Friday    |\n",
        "|  8 | 2024-09-30 00:00:00 | Monday    |\n",
        "|  9 | 2024-10-31 00:00:00 | Thursday  |\n",
        "| 10 | 2024-11-29 00:00:00 | Friday    |\n",
        "| 11 | 2024-12-31 00:00:00 | Tuesday   |\n"
      ]
    },
    {
      "cell_type": "code",
      "execution_count": null,
      "metadata": {
        "nbgrader": {
          "grade": false,
          "grade_id": "cell-c705ab9d11473b9f9",
          "locked": false,
          "schema_version": 3,
          "solution": true,
          "task": false
        },
        "id": "nIwk6_SnP60Z"
      },
      "outputs": [],
      "source": [
        "prompt86 = \"\"\"AQUI\"\"\""
      ]
    },
    {
      "cell_type": "code",
      "execution_count": null,
      "metadata": {
        "id": "bzLWdmZNCT90"
      },
      "outputs": [],
      "source": [
        "validate(prompt86, \"A8-E6\")"
      ]
    },
    {
      "cell_type": "markdown",
      "metadata": {
        "id": "AFrMfPFDAwRv"
      },
      "source": [
        "### 8.7 Escreva um prompt de uma função python para realizar a transformação monstrada no exemplo a seguir.\n",
        "#### **Dica:** O pandas só faz conta de datas dados do tipo datetime. Com o tipo string não é possível fazer operações matematicas de data.\n",
        "#### Entrada:\n",
        "```\n",
        "{\n",
        "    'Start Date': ['2021-05-01', '2021-06-15', '2021-07-20'],\n",
        "    'End Date': ['2021-05-10', '2021-06-25', '2021-08-01']\n",
        "}\n",
        "```\n",
        "\n",
        "#### Saída:\n",
        "\n",
        "|    | Start Date          | End Date            |   Difference |\n",
        "|---:|:--------------------|:--------------------|-------------:|\n",
        "|  0 | 2021-07-20 00:00:00 | 2021-08-01 00:00:00 |           12 |\n"
      ]
    },
    {
      "cell_type": "code",
      "execution_count": null,
      "metadata": {
        "id": "DNVMsFBmJ5vd"
      },
      "outputs": [],
      "source": [
        "d8_7_1 = {\n",
        "    'Start Date': ['2021-05-01', '2021-06-15', '2021-07-20'],\n",
        "    'End Date': ['2021-05-10', '2021-06-25', '2021-08-01']\n",
        "}"
      ]
    },
    {
      "cell_type": "code",
      "execution_count": null,
      "metadata": {
        "id": "DXVdoZdlCUb3",
        "nbgrader": {
          "grade": false,
          "grade_id": "cell-c705ab9d11473b9f9",
          "locked": false,
          "schema_version": 3,
          "solution": true,
          "task": false
        }
      },
      "outputs": [],
      "source": [
        "prompt87 = \"\"\"AQUI\"\"\""
      ]
    },
    {
      "cell_type": "code",
      "execution_count": null,
      "metadata": {
        "id": "luQuTo5-CUb5"
      },
      "outputs": [],
      "source": [
        "validate(prompt87, \"A8-E7\")"
      ]
    },
    {
      "cell_type": "markdown",
      "metadata": {
        "id": "rSBuKF2fAwrP"
      },
      "source": [
        "### 8.8 Escreva um prompt de uma função python para realizar a transformação monstrada no exemplo a seguir.\n",
        "#### **Dica:** número de semanas completas\n",
        "#### Entrada 1:\n",
        "```\n",
        "{\n",
        "    'Event': ['Event A', 'Event B', 'Event C'],\n",
        "    'Start Date': ['2023-01-05', '2023-02-15', '2023-07-20'],\n",
        "    'End Date': ['2023-02-10', '2023-03-28', '2023-08-01']\n",
        "}\n",
        "```\n",
        "\n",
        "\n",
        "#### Saída: um dataframe igual a este\n",
        "\n",
        "|    | Event   | Start Date          | End Date            |   Difference |   Full Weeks Difference |\n",
        "|---:|:--------|:--------------------|:--------------------|-------------:|------------------------:|\n",
        "|  0 | Event A | 2023-01-05 00:00:00 | 2023-02-10 00:00:00 |           36 |                       5 |\n",
        "|  1 | Event B | 2023-02-15 00:00:00 | 2023-03-28 00:00:00 |           41 |                       5 |\n",
        "|  2 | Event C | 2023-07-20 00:00:00 | 2023-08-01 00:00:00 |           12 |                       1 |\n",
        "\n"
      ]
    },
    {
      "cell_type": "code",
      "execution_count": null,
      "metadata": {
        "id": "olo5R2k_J4jI"
      },
      "outputs": [],
      "source": [
        "d8_8_1 = {\n",
        "    'Event': ['Event A', 'Event B', 'Event C'],\n",
        "    'Start Date': ['2023-01-05', '2023-02-15', '2023-07-20'],\n",
        "    'End Date': ['2023-02-10', '2023-03-28', '2023-08-01']\n",
        "}"
      ]
    },
    {
      "cell_type": "code",
      "execution_count": null,
      "metadata": {
        "id": "PseMbwuxCU09",
        "nbgrader": {
          "grade": false,
          "grade_id": "cell-c705ab9d11473b9f9",
          "locked": false,
          "schema_version": 3,
          "solution": true,
          "task": false
        }
      },
      "outputs": [],
      "source": [
        "prompt88 = \"\"\"AQUI\"\"\""
      ]
    },
    {
      "cell_type": "code",
      "execution_count": null,
      "metadata": {
        "id": "rN3j4g7TCU1C"
      },
      "outputs": [],
      "source": [
        "validate(prompt88, \"A8-E8\")"
      ]
    },
    {
      "cell_type": "code",
      "execution_count": null,
      "metadata": {
        "id": "IoFYhlp1Jnwf"
      },
      "outputs": [],
      "source": []
    },
    {
      "cell_type": "markdown",
      "metadata": {
        "id": "9cTqrAw0IXaY"
      },
      "source": [
        "### Exercício de Reflexão (Facultativo)\n",
        "#### Você aprendeu alguma coisa que pode ser reaproveitado em outros problemas?\n",
        "#### Como você pode melhorar seu processo de elaboração de requisitos / prompts?\n",
        "#### Você notou ambiguidade na sua especificação inicial?"
      ]
    },
    {
      "cell_type": "code",
      "execution_count": null,
      "metadata": {
        "id": "Y9yjEmHV2nKi"
      },
      "outputs": [],
      "source": [
        "resposta=\"\"\"AQUI\"\"\""
      ]
    },
    {
      "cell_type": "code",
      "execution_count": null,
      "metadata": {
        "id": "yLXjtjQaK6V1"
      },
      "outputs": [],
      "source": [
        "validate(resposta, \"A8-R1\")"
      ]
    }
  ],
  "metadata": {
    "celltoolbar": "Create Assignment",
    "colab": {
      "provenance": [],
      "include_colab_link": true
    },
    "kernelspec": {
      "display_name": "Python 3",
      "language": "python",
      "name": "python3"
    },
    "language_info": {
      "codemirror_mode": {
        "name": "ipython",
        "version": 3
      },
      "file_extension": ".py",
      "mimetype": "text/x-python",
      "name": "python",
      "nbconvert_exporter": "python",
      "pygments_lexer": "ipython3",
      "version": "3.8.3"
    },
    "name": "_merged",
    "varInspector": {
      "cols": {
        "lenName": 16,
        "lenType": 16,
        "lenVar": 40
      },
      "kernels_config": {
        "python": {
          "delete_cmd_postfix": "",
          "delete_cmd_prefix": "del ",
          "library": "var_list.py",
          "varRefreshCmd": "print(var_dic_list())"
        },
        "r": {
          "delete_cmd_postfix": ") ",
          "delete_cmd_prefix": "rm(",
          "library": "var_list.r",
          "varRefreshCmd": "cat(var_dic_list()) "
        }
      },
      "types_to_exclude": [
        "module",
        "function",
        "builtin_function_or_method",
        "instance",
        "_Feature"
      ],
      "window_display": false
    }
  },
  "nbformat": 4,
  "nbformat_minor": 0
}