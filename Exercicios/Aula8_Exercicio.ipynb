{
  "cells": [
    {
      "cell_type": "markdown",
      "metadata": {
        "id": "view-in-github",
        "colab_type": "text"
      },
      "source": [
        "<a href=\"https://colab.research.google.com/github/EdudardoM/skills-introduction-to-github/blob/main/Exercicios/Aula8_Exercicio.ipynb\" target=\"_parent\"><img src=\"https://colab.research.google.com/assets/colab-badge.svg\" alt=\"Open In Colab\"/></a>"
      ]
    },
    {
      "cell_type": "markdown",
      "metadata": {
        "id": "dyrfGARY5Ho9"
      },
      "source": [
        "# Aula 8 - Exercícios - Datetime e Regex"
      ]
    },
    {
      "cell_type": "markdown",
      "metadata": {
        "id": "isqhNh0K2rW7"
      },
      "source": [
        "### Documentação do Autograder [Link](https://github.com/alexlopespereira/mba_enap/blob/main/Exercicios/Autograder.ipynb)\n",
        "\n",
        "\n",
        "*   Link para o gabarito das questões\n",
        "*   Imports padrão\n",
        "*   Instalação\n",
        "*   Autenticaçao para nota\n",
        "*   Validação\n",
        "\n",
        "\n"
      ]
    },
    {
      "cell_type": "code",
      "execution_count": 9,
      "metadata": {
        "id": "RkNwKAd8kJz5"
      },
      "outputs": [],
      "source": [
        "!pip install --upgrade ipynb_autograde > /dev/null"
      ]
    },
    {
      "cell_type": "code",
      "execution_count": 10,
      "metadata": {
        "id": "WxBHNGxie9BB",
        "colab": {
          "base_uri": "https://localhost:8080/"
        },
        "outputId": "59ef252b-63a9-4d32-994a-20b0109f12d4"
      },
      "outputs": [
        {
          "output_type": "stream",
          "name": "stdout",
          "text": [
            "env: COURSE=mba_enap\n",
            "Go to the following link in your browser, and complete the sign-in prompts:\n",
            "\n",
            "    https://accounts.google.com/o/oauth2/auth?response_type=code&client_id=32555940559.apps.googleusercontent.com&redirect_uri=https%3A%2F%2Fsdk.cloud.google.com%2Fauthcode.html&scope=openid+https%3A%2F%2Fwww.googleapis.com%2Fauth%2Fuserinfo.email+https%3A%2F%2Fwww.googleapis.com%2Fauth%2Fcloud-platform+https%3A%2F%2Fwww.googleapis.com%2Fauth%2Fappengine.admin+https%3A%2F%2Fwww.googleapis.com%2Fauth%2Fsqlservice.login+https%3A%2F%2Fwww.googleapis.com%2Fauth%2Fcompute+https%3A%2F%2Fwww.googleapis.com%2Fauth%2Faccounts.reauth&state=AmxNzlPyBR86TsWn5WIY6Ddnae0Ev9&prompt=consent&token_usage=remote&access_type=offline&code_challenge=GY_7Zb82zUEm6yyRcyCaYSLyVoZB2jFNpW4-S_8lMD8&code_challenge_method=S256\n",
            "\n",
            "Once finished, enter the verification code provided in your browser: 4/0ASVgi3LMfN03la4axC7xBCwfc78zjsK9NOierSfbq2-4atAIhtB9yHzwNNRHcc3v665N5g\n",
            "\n",
            "You are now logged in as [dudammf@gmail.com].\n",
            "Your current project is [None].  You can change this setting by running:\n",
            "  $ gcloud config set project PROJECT_ID\n"
          ]
        }
      ],
      "source": [
        "%env  COURSE=mba_enap\n",
        "from ipynb_autograde.main import init_log, validate\n",
        "init_log()\n",
        "email_result=!gcloud config get-value account\n",
        "if not email_result or 'unset' in email_result[0]:\n",
        "  !gcloud auth login"
      ]
    },
    {
      "cell_type": "code",
      "execution_count": 11,
      "metadata": {
        "id": "fzizEpSQ5HpD"
      },
      "outputs": [],
      "source": [
        "# Importe a biblioteca pandas\n",
        "import pandas as pd\n",
        "import numpy as np\n",
        "import re\n",
        "import pandas as pd\n",
        "import datetime\n",
        "from datetime import datetime, date"
      ]
    },
    {
      "cell_type": "markdown",
      "metadata": {
        "id": "IHMAEQUa5HpF"
      },
      "source": [
        "### 8.1 Escreva um prompt de uma função python que use a biblioteca de regex para extrair o padrão monstrado nos exemplos a seguir.\n",
        "\n",
        "#### Entrada 1: ```\"abbb asde ababbaaabbbabbb\"```\n",
        "\n",
        "\n",
        "#### Saída 1: ```[\"abbb\", \"abbb\", \"abbb\"]```\n",
        "\n",
        "\n",
        "#### Entrada 2: ```\"ab bb bba aaa\"```\n",
        "\n",
        "\n",
        "#### Saída 2: ```[]```\n",
        "\n",
        "#### Entrada 3: ```\"abb bb bbabbba abaaba\"```\n",
        "\n",
        "\n",
        "#### Saída 3: ```[\"abbb\"]```\n",
        "\n",
        "\n"
      ]
    },
    {
      "cell_type": "code",
      "execution_count": 6,
      "metadata": {
        "id": "-hjPLU5CJ9oz"
      },
      "outputs": [],
      "source": [
        "d8_1_1 = \"abbb asde ababbaaabbbabbb\"\n",
        "d8_1_2 = \"ab bb bba aaa\"\n",
        "d8_1_3 = \"abb bb bbabbba abaaba\""
      ]
    },
    {
      "cell_type": "code",
      "source": [
        "# prompt: Gere um código utilizando regex que leia como um argumento uma string composta por um conjunto de letras separadas por espaço\n",
        "# o código deve retornar uma lista com os padrãos 'abbb' nos conjuntos de letras''\n",
        "\n",
        "import re\n",
        "\n",
        "def find_abbb_patterns(input_string):\n",
        "  \"\"\"\n",
        "  Finds all occurrences of the 'abbb' pattern in a string.\n",
        "\n",
        "  Args:\n",
        "    input_string: The input string to search.\n",
        "\n",
        "  Returns:\n",
        "    A list of strings, where each string is an occurrence of 'abbb'.\n",
        "  \"\"\"\n",
        "  pattern = r\"abbb\"  # Regular expression pattern to match \"abbb\"\n",
        "  matches = re.findall(pattern, input_string)\n",
        "  return matches\n"
      ],
      "metadata": {
        "id": "84bAeINbr2gh"
      },
      "execution_count": 51,
      "outputs": []
    },
    {
      "cell_type": "code",
      "source": [
        "find_abbb_patterns(d8_1_1)"
      ],
      "metadata": {
        "colab": {
          "base_uri": "https://localhost:8080/"
        },
        "id": "TzWfKMokxGAQ",
        "outputId": "be170762-d88e-4c7a-ebe0-90bec942cb10"
      },
      "execution_count": 52,
      "outputs": [
        {
          "output_type": "execute_result",
          "data": {
            "text/plain": [
              "['abbb', 'abbb', 'abbb']"
            ]
          },
          "metadata": {},
          "execution_count": 52
        }
      ]
    },
    {
      "cell_type": "code",
      "source": [
        "find_abbb_patterns(d8_1_2)"
      ],
      "metadata": {
        "colab": {
          "base_uri": "https://localhost:8080/"
        },
        "id": "BTnJlpKswsYH",
        "outputId": "acd7a75e-70cc-4475-cfa2-840b499f9210"
      },
      "execution_count": 53,
      "outputs": [
        {
          "output_type": "execute_result",
          "data": {
            "text/plain": [
              "[]"
            ]
          },
          "metadata": {},
          "execution_count": 53
        }
      ]
    },
    {
      "cell_type": "code",
      "source": [
        "find_abbb_patterns(d8_1_3)"
      ],
      "metadata": {
        "colab": {
          "base_uri": "https://localhost:8080/"
        },
        "id": "lM-tEED6s0Vk",
        "outputId": "5a595a23-5e76-48d2-a755-33d7db10095e"
      },
      "execution_count": 54,
      "outputs": [
        {
          "output_type": "execute_result",
          "data": {
            "text/plain": [
              "['abbb']"
            ]
          },
          "metadata": {},
          "execution_count": 54
        }
      ]
    },
    {
      "cell_type": "code",
      "execution_count": 55,
      "metadata": {
        "id": "uHOH0TBe5HpG",
        "nbgrader": {
          "grade": false,
          "grade_id": "cell-c705ab9d11473b9f9",
          "locked": false,
          "schema_version": 3,
          "solution": true,
          "task": false
        }
      },
      "outputs": [],
      "source": [
        "prompt81 = \"\"\"Gere um código utilizando regex que leia como um argumento uma string composta por um conjunto de letras separadas por espaço\n",
        "o código deve retornar uma lista com os padrãos 'abbb' nos conjuntos de letras''\"\"\""
      ]
    },
    {
      "cell_type": "code",
      "execution_count": 56,
      "metadata": {
        "id": "MKxwvOpc5HpI",
        "colab": {
          "base_uri": "https://localhost:8080/"
        },
        "outputId": "7b118c9d-c96e-48eb-9e7d-38b28f45f680"
      },
      "outputs": [
        {
          "output_type": "stream",
          "name": "stdout",
          "text": [
            "Codigo gerado: \n",
            "def encontrar_padroes_abbb(s):\n",
            "\n",
            "    padrao = re.compile(r'abbb')\n",
            "    return padrao.findall(s)\n",
            "\n",
            "✅ Passed Test Cases:\n",
            "  - Test ID: 1: ['abbb', 'abbb', 'abbb']\n",
            "  - Test ID: 2: []\n",
            "  - Test ID: 3: ['abbb']\n"
          ]
        }
      ],
      "source": [
        "validate(prompt81, \"A8-E1\")"
      ]
    },
    {
      "cell_type": "markdown",
      "metadata": {
        "id": "xw9NCw7u5HpK"
      },
      "source": [
        "### 8.2 Escreva um prompt de uma função python que use a biblioteca de regex para extrair o padrão monstrado nos exemplos a seguir.\n",
        "\n",
        "#### Entrada 1: ```\"33a307a\"```\n",
        "\n",
        "\n",
        "#### Saída 1: ```[]```\n",
        "\n",
        "\n",
        "#### Entrada 2: ```\"33a307\"```\n",
        "\n",
        "\n",
        "#### Saída 2: ```[\"307\"]```\n",
        "\n",
        "\n",
        "\n",
        "\n"
      ]
    },
    {
      "cell_type": "code",
      "execution_count": 57,
      "metadata": {
        "id": "pHQ8GDwLJ8_R"
      },
      "outputs": [],
      "source": [
        "d8_2_1 = \"33a307a\"\n",
        "d8_2_2 = \"33a307\""
      ]
    },
    {
      "cell_type": "code",
      "source": [
        "# prompt: Gere um código utilizando regex que leia como um argumento uma string composta por um conjunto de números e letras\n",
        "# o código deve retornar uma lista com o padrão '307' no final da string\n",
        "\n",
        "import re\n",
        "\n",
        "def find_307_pattern(input_string):\n",
        "    \"\"\"\n",
        "    Finds the '307' pattern at the end of a string using regex.\n",
        "\n",
        "    Args:\n",
        "        input_string: The input string to search.\n",
        "\n",
        "    Returns:\n",
        "        A list containing \"307\" if the pattern is found at the end, otherwise an empty list.\n",
        "    \"\"\"\n",
        "    pattern = r\"307$\"  # Matches \"307\" only at the end of the string\n",
        "    matches = re.findall(pattern, input_string)\n",
        "    return matches\n"
      ],
      "metadata": {
        "id": "w40PSXiK0-gj"
      },
      "execution_count": 59,
      "outputs": []
    },
    {
      "cell_type": "code",
      "source": [
        "find_307_pattern(d8_2_2)"
      ],
      "metadata": {
        "colab": {
          "base_uri": "https://localhost:8080/"
        },
        "id": "VK104ht01RaB",
        "outputId": "e0104c47-24ba-4737-a8db-e493aefd44a2"
      },
      "execution_count": 61,
      "outputs": [
        {
          "output_type": "execute_result",
          "data": {
            "text/plain": [
              "['307']"
            ]
          },
          "metadata": {},
          "execution_count": 61
        }
      ]
    },
    {
      "cell_type": "code",
      "execution_count": 64,
      "metadata": {
        "id": "O0Jvfk50CQW3",
        "nbgrader": {
          "grade": false,
          "grade_id": "cell-c705ab9d11473b9f9",
          "locked": false,
          "schema_version": 3,
          "solution": true,
          "task": false
        }
      },
      "outputs": [],
      "source": [
        "prompt82 = \"\"\"Gere um código utilizando regex que leia como um argumento uma string composta por um conjunto de números e letras\n",
        "o código deve identificar o padrão '307' no final da string e retorna o padrão numa lista\"\"\""
      ]
    },
    {
      "cell_type": "code",
      "execution_count": 65,
      "metadata": {
        "id": "-hCheU1DCQW-",
        "colab": {
          "base_uri": "https://localhost:8080/"
        },
        "outputId": "75302c2d-c69b-45a4-c25f-56b944d00a76"
      },
      "outputs": [
        {
          "output_type": "stream",
          "name": "stdout",
          "text": [
            "Codigo gerado: \n",
            "def encontrar_padrao(string):\n",
            "\n",
            "    padrao = re.search(r'307$', string)\n",
            "    if padrao:\n",
            "        return [padrao.group()]\n",
            "    return []\n",
            "\n",
            "✅ Passed Test Cases:\n",
            "  - Test ID: 1: []\n",
            "  - Test ID: 2: ['307']\n"
          ]
        }
      ],
      "source": [
        "validate(prompt82, \"A8-E2\")"
      ]
    },
    {
      "cell_type": "markdown",
      "metadata": {
        "id": "vVjFdewF5HpN"
      },
      "source": [
        "### 8.3 Escreva um prompt de uma função python para realizar a transformação monstrada no exemplo a seguir.\n",
        "#### **Dica:** O pandas só faz conta de datas dados do tipo datetime. Com o tipo string não é possível fazer operações matematicas de data.\n",
        "\n",
        "#### Entrada 1:  ```\"2021-05-11\"```\n",
        "\n",
        "\n",
        "#### Saída 1: ```[\"2021-05-10\", \"2021-05-12\"]```\n",
        "\n"
      ]
    },
    {
      "cell_type": "code",
      "source": [
        "# prompt: Gerar um código que leia como argumento um string\n",
        "# o código deve transformar o string para o padrão datetime como a seguinte forma aaaa-mm-dd\n",
        "# o código deve gerar uma lista que o primeiro elemento seja a data no dia antes e o segundo elemento a data no dia depois\n",
        "\n",
        "from datetime import datetime, timedelta\n",
        "\n",
        "def date_math(date_string):\n",
        "    \"\"\"\n",
        "    Transforms a date string to datetime format, calculates the previous and next days, and returns them as a list.\n",
        "\n",
        "    Args:\n",
        "        date_string: A string representing a date in 'YYYY-MM-DD' format.\n",
        "\n",
        "    Returns:\n",
        "        A list containing two strings representing the dates of the day before and the day after the input date.\n",
        "        Returns an empty list if the input date string is invalid.\n",
        "    \"\"\"\n",
        "    try:\n",
        "        date_object = datetime.strptime(date_string, '%Y-%m-%d').date()\n",
        "        previous_day = date_object - timedelta(days=1)\n",
        "        next_day = date_object + timedelta(days=1)\n",
        "        return [str(previous_day), str(next_day)]\n",
        "    except ValueError:\n",
        "        return []\n"
      ],
      "metadata": {
        "id": "P-Yqd0Pj2CNf"
      },
      "execution_count": 69,
      "outputs": []
    },
    {
      "cell_type": "code",
      "execution_count": 67,
      "metadata": {
        "id": "GKZfD7fTJ8hO"
      },
      "outputs": [],
      "source": [
        "d8_3_1 = \"2021-05-11\""
      ]
    },
    {
      "cell_type": "code",
      "source": [
        "date_math(d8_3_1)"
      ],
      "metadata": {
        "colab": {
          "base_uri": "https://localhost:8080/"
        },
        "id": "VJ4KOChl27Gr",
        "outputId": "91596b16-5a3b-4cba-e9b7-9e786b9677b8"
      },
      "execution_count": 70,
      "outputs": [
        {
          "output_type": "execute_result",
          "data": {
            "text/plain": [
              "['2021-05-10', '2021-05-12']"
            ]
          },
          "metadata": {},
          "execution_count": 70
        }
      ]
    },
    {
      "cell_type": "code",
      "execution_count": 8,
      "metadata": {
        "id": "RKDeWD-fCRXP",
        "nbgrader": {
          "grade": false,
          "grade_id": "cell-c705ab9d11473b9f9",
          "locked": false,
          "schema_version": 3,
          "solution": true,
          "task": false
        }
      },
      "outputs": [],
      "source": [
        "prompt83 = \"\"\"Gerar uma função que leia como argumento um string\n",
        "o código deve transformar o string para o padrão data com a forma aaaa-mm-dd, utiliando a biblioteca datetime,\n",
        "ao utilizar o datetime use datetime.datetime\n",
        "o código deve gerar uma lista em que o primeiro elemento seja a data no dia antes e o segundo elemento a data no dia depois\"\"\""
      ]
    },
    {
      "cell_type": "code",
      "execution_count": 9,
      "metadata": {
        "id": "2xb2vzFeCRXR",
        "colab": {
          "base_uri": "https://localhost:8080/"
        },
        "outputId": "8d376ba7-fcd4-4e27-9fb0-de46b7fefd2e"
      },
      "outputs": [
        {
          "output_type": "stream",
          "name": "stdout",
          "text": [
            "Codigo gerado: \n",
            "def gerar_datas(data_str):\n",
            "\n",
            "    \n",
            "    data = datetime.datetime.strptime(data_str, '%Y-%m-%d')\n",
            "    data_anterior = data - datetime.timedelta(days=1)\n",
            "    data_posterior = data + datetime.timedelta(days=1)\n",
            "    \n",
            "    return [data_anterior.strftime('%Y-%m-%d'), data_posterior.strftime('%Y-%m-%d')]\n",
            "\n",
            "✅ Passed the Test Case!\n",
            "  Expected: ['2021-05-10', '2021-05-12']\n",
            "  Delivered: ['2021-05-10', '2021-05-12']\n"
          ]
        }
      ],
      "source": [
        "validate(prompt83, \"A8-E3\")"
      ]
    },
    {
      "cell_type": "markdown",
      "metadata": {
        "id": "cO1eUMZh5HpR"
      },
      "source": [
        "### 8.4 Escreva um prompt de uma função python para realizar a transformação monstrada no exemplo a seguir.\n",
        "#### **Dica:** O pandas só faz conta de datas dados do tipo datetime. Com o tipo string não é possível fazer operações matematicas de data.\n",
        "\n",
        "#### Entrada: ```{\"data\": [\"2011-09-02\", \"2012-08-04\", \"2013-09-03\"], \"0\": [-0.96, -0.05, -0.42]}```\n",
        "\n",
        "\n",
        "#### Saída:\n",
        "\n",
        "\n",
        "|    | data      |     0 |   mes |\n",
        "|---:|:-----------|------:|------:|\n",
        "|  0 | 2011-09-02 | -0.96 |     9 |\n",
        "|  1 | 2012-08-04 | -0.05 |     8 |\n",
        "|  2 | 2013-09-03 | -0.42 |     9 |\n"
      ]
    },
    {
      "cell_type": "code",
      "execution_count": 49,
      "metadata": {
        "id": "Jm92RDL5J7we"
      },
      "outputs": [],
      "source": [
        "d8_4_1 = {\"data\": [\"2011-09-02\", \"2012-08-04\", \"2013-09-03\"], \"0\": [-0.96, -0.05, -0.42]}"
      ]
    },
    {
      "cell_type": "code",
      "source": [
        "# prompt: Gerar um código que leia como argumento um forma dicionário, com dois elementos, cada elemento é uma lista.\n",
        "# A primeira lista contem 3 strings no formato de datas (aaaa-mm-dd) e segunda lista, como o nome 0, é compostas de 3 números float.\n",
        "# O códifo deve forcener um dataframe com uma coluna como o nome data com os 3 strings convertidos para datetime utilizando datetime.datetime.strptime,\n",
        "# uma coluna com o nome 0 com os 3 números float\n",
        "# e uma coluna como o nome mes com os meses extraidos da coluna data\n",
        "\n",
        "import pandas as pd\n",
        "import datetime\n",
        "\n",
        "def create_dataframe(data_dict):\n",
        "    \"\"\"\n",
        "    Cria um DataFrame pandas a partir de um dicionário com datas e valores.\n",
        "\n",
        "    Args:\n",
        "      data_dict: Um dicionário com duas chaves: \"data\" (lista de strings de datas) e \"0\" (lista de números float).\n",
        "\n",
        "    Returns:\n",
        "      Um DataFrame pandas com as colunas \"data\", \"0\" e \"mes\".\n",
        "    \"\"\"\n",
        "    # Cria um DataFrame a partir do dicionário\n",
        "    df = pd.DataFrame(data_dict)\n",
        "\n",
        "    # Converte a coluna \"data\" para datetime\n",
        "    df['data'] = pd.to_datetime(df['data'])\n",
        "\n",
        "    # Extrai o mês da coluna \"data\"\n",
        "    df['mes'] = df['data'].dt.month\n",
        "\n",
        "    return df\n",
        "\n",
        "# Exemplo de uso\n",
        "# data_dict = {\"data\": [\"2011-09-02\", \"2012-08-04\", \"2013-09-03\"], \"0\": [-0.96, -0.05, -0.42]}\n",
        "# df = create_dataframe(data_dict)\n",
        "# print(df)\n"
      ],
      "metadata": {
        "id": "c_pcvFW-3c-r"
      },
      "execution_count": 42,
      "outputs": []
    },
    {
      "cell_type": "code",
      "source": [
        "def gerar_dataframe(dicionario):\n",
        "\n",
        "\n",
        "    datas = [datetime.datetime.strptime(data, \"%Y-%m-%d\") for data in dicionario['data']]\n",
        "    numeros = dicionario[0]\n",
        "    meses = [data.month for data in datas]\n",
        "\n",
        "    dataframe = pd.DataFrame({\n",
        "        'data': datas,\n",
        "        '0': numeros,\n",
        "        'mes': meses\n",
        "    })\n",
        "\n",
        "    return dataframe\n",
        "\n",
        "\n",
        "gerar_dataframe(d8_4_1)\n"
      ],
      "metadata": {
        "id": "uue5qDVs9bYX",
        "outputId": "5a5793e6-cf68-47c9-833f-98f79e6df163",
        "colab": {
          "base_uri": "https://localhost:8080/",
          "height": 311
        }
      },
      "execution_count": 56,
      "outputs": [
        {
          "output_type": "error",
          "ename": "KeyError",
          "evalue": "0",
          "traceback": [
            "\u001b[0;31m---------------------------------------------------------------------------\u001b[0m",
            "\u001b[0;31mKeyError\u001b[0m                                  Traceback (most recent call last)",
            "\u001b[0;32m<ipython-input-56-a2ad138e276a>\u001b[0m in \u001b[0;36m<cell line: 0>\u001b[0;34m()\u001b[0m\n\u001b[1;32m     15\u001b[0m \u001b[0;34m\u001b[0m\u001b[0m\n\u001b[1;32m     16\u001b[0m \u001b[0;34m\u001b[0m\u001b[0m\n\u001b[0;32m---> 17\u001b[0;31m \u001b[0mgerar_dataframe\u001b[0m\u001b[0;34m(\u001b[0m\u001b[0md8_4_1\u001b[0m\u001b[0;34m)\u001b[0m\u001b[0;34m\u001b[0m\u001b[0;34m\u001b[0m\u001b[0m\n\u001b[0m",
            "\u001b[0;32m<ipython-input-56-a2ad138e276a>\u001b[0m in \u001b[0;36mgerar_dataframe\u001b[0;34m(dicionario)\u001b[0m\n\u001b[1;32m      3\u001b[0m \u001b[0;34m\u001b[0m\u001b[0m\n\u001b[1;32m      4\u001b[0m     \u001b[0mdatas\u001b[0m \u001b[0;34m=\u001b[0m \u001b[0;34m[\u001b[0m\u001b[0mdatetime\u001b[0m\u001b[0;34m.\u001b[0m\u001b[0mdatetime\u001b[0m\u001b[0;34m.\u001b[0m\u001b[0mstrptime\u001b[0m\u001b[0;34m(\u001b[0m\u001b[0mdata\u001b[0m\u001b[0;34m,\u001b[0m \u001b[0;34m\"%Y-%m-%d\"\u001b[0m\u001b[0;34m)\u001b[0m \u001b[0;32mfor\u001b[0m \u001b[0mdata\u001b[0m \u001b[0;32min\u001b[0m \u001b[0mdicionario\u001b[0m\u001b[0;34m[\u001b[0m\u001b[0;34m'data'\u001b[0m\u001b[0;34m]\u001b[0m\u001b[0;34m]\u001b[0m\u001b[0;34m\u001b[0m\u001b[0;34m\u001b[0m\u001b[0m\n\u001b[0;32m----> 5\u001b[0;31m     \u001b[0mnumeros\u001b[0m \u001b[0;34m=\u001b[0m \u001b[0mdicionario\u001b[0m\u001b[0;34m[\u001b[0m\u001b[0;36m0\u001b[0m\u001b[0;34m]\u001b[0m\u001b[0;34m\u001b[0m\u001b[0;34m\u001b[0m\u001b[0m\n\u001b[0m\u001b[1;32m      6\u001b[0m     \u001b[0mmeses\u001b[0m \u001b[0;34m=\u001b[0m \u001b[0;34m[\u001b[0m\u001b[0mdata\u001b[0m\u001b[0;34m.\u001b[0m\u001b[0mmonth\u001b[0m \u001b[0;32mfor\u001b[0m \u001b[0mdata\u001b[0m \u001b[0;32min\u001b[0m \u001b[0mdatas\u001b[0m\u001b[0;34m]\u001b[0m\u001b[0;34m\u001b[0m\u001b[0;34m\u001b[0m\u001b[0m\n\u001b[1;32m      7\u001b[0m \u001b[0;34m\u001b[0m\u001b[0m\n",
            "\u001b[0;31mKeyError\u001b[0m: 0"
          ]
        }
      ]
    },
    {
      "cell_type": "code",
      "source": [
        "create_dataframe(d8_4_1)"
      ],
      "metadata": {
        "id": "Mv04tduL4ioi",
        "outputId": "ea77616f-eb88-45e7-8edb-a1c5c40cd4b5",
        "colab": {
          "base_uri": "https://localhost:8080/",
          "height": 143
        }
      },
      "execution_count": 43,
      "outputs": [
        {
          "output_type": "execute_result",
          "data": {
            "text/plain": [
              "        data     0  mes\n",
              "0 2011-09-02 -0.96    9\n",
              "1 2012-08-04 -0.05    8\n",
              "2 2013-09-03 -0.42    9"
            ],
            "text/html": [
              "\n",
              "  <div id=\"df-01b1a4d6-a82a-41dd-969f-586ce9061e74\" class=\"colab-df-container\">\n",
              "    <div>\n",
              "<style scoped>\n",
              "    .dataframe tbody tr th:only-of-type {\n",
              "        vertical-align: middle;\n",
              "    }\n",
              "\n",
              "    .dataframe tbody tr th {\n",
              "        vertical-align: top;\n",
              "    }\n",
              "\n",
              "    .dataframe thead th {\n",
              "        text-align: right;\n",
              "    }\n",
              "</style>\n",
              "<table border=\"1\" class=\"dataframe\">\n",
              "  <thead>\n",
              "    <tr style=\"text-align: right;\">\n",
              "      <th></th>\n",
              "      <th>data</th>\n",
              "      <th>0</th>\n",
              "      <th>mes</th>\n",
              "    </tr>\n",
              "  </thead>\n",
              "  <tbody>\n",
              "    <tr>\n",
              "      <th>0</th>\n",
              "      <td>2011-09-02</td>\n",
              "      <td>-0.96</td>\n",
              "      <td>9</td>\n",
              "    </tr>\n",
              "    <tr>\n",
              "      <th>1</th>\n",
              "      <td>2012-08-04</td>\n",
              "      <td>-0.05</td>\n",
              "      <td>8</td>\n",
              "    </tr>\n",
              "    <tr>\n",
              "      <th>2</th>\n",
              "      <td>2013-09-03</td>\n",
              "      <td>-0.42</td>\n",
              "      <td>9</td>\n",
              "    </tr>\n",
              "  </tbody>\n",
              "</table>\n",
              "</div>\n",
              "    <div class=\"colab-df-buttons\">\n",
              "\n",
              "  <div class=\"colab-df-container\">\n",
              "    <button class=\"colab-df-convert\" onclick=\"convertToInteractive('df-01b1a4d6-a82a-41dd-969f-586ce9061e74')\"\n",
              "            title=\"Convert this dataframe to an interactive table.\"\n",
              "            style=\"display:none;\">\n",
              "\n",
              "  <svg xmlns=\"http://www.w3.org/2000/svg\" height=\"24px\" viewBox=\"0 -960 960 960\">\n",
              "    <path d=\"M120-120v-720h720v720H120Zm60-500h600v-160H180v160Zm220 220h160v-160H400v160Zm0 220h160v-160H400v160ZM180-400h160v-160H180v160Zm440 0h160v-160H620v160ZM180-180h160v-160H180v160Zm440 0h160v-160H620v160Z\"/>\n",
              "  </svg>\n",
              "    </button>\n",
              "\n",
              "  <style>\n",
              "    .colab-df-container {\n",
              "      display:flex;\n",
              "      gap: 12px;\n",
              "    }\n",
              "\n",
              "    .colab-df-convert {\n",
              "      background-color: #E8F0FE;\n",
              "      border: none;\n",
              "      border-radius: 50%;\n",
              "      cursor: pointer;\n",
              "      display: none;\n",
              "      fill: #1967D2;\n",
              "      height: 32px;\n",
              "      padding: 0 0 0 0;\n",
              "      width: 32px;\n",
              "    }\n",
              "\n",
              "    .colab-df-convert:hover {\n",
              "      background-color: #E2EBFA;\n",
              "      box-shadow: 0px 1px 2px rgba(60, 64, 67, 0.3), 0px 1px 3px 1px rgba(60, 64, 67, 0.15);\n",
              "      fill: #174EA6;\n",
              "    }\n",
              "\n",
              "    .colab-df-buttons div {\n",
              "      margin-bottom: 4px;\n",
              "    }\n",
              "\n",
              "    [theme=dark] .colab-df-convert {\n",
              "      background-color: #3B4455;\n",
              "      fill: #D2E3FC;\n",
              "    }\n",
              "\n",
              "    [theme=dark] .colab-df-convert:hover {\n",
              "      background-color: #434B5C;\n",
              "      box-shadow: 0px 1px 3px 1px rgba(0, 0, 0, 0.15);\n",
              "      filter: drop-shadow(0px 1px 2px rgba(0, 0, 0, 0.3));\n",
              "      fill: #FFFFFF;\n",
              "    }\n",
              "  </style>\n",
              "\n",
              "    <script>\n",
              "      const buttonEl =\n",
              "        document.querySelector('#df-01b1a4d6-a82a-41dd-969f-586ce9061e74 button.colab-df-convert');\n",
              "      buttonEl.style.display =\n",
              "        google.colab.kernel.accessAllowed ? 'block' : 'none';\n",
              "\n",
              "      async function convertToInteractive(key) {\n",
              "        const element = document.querySelector('#df-01b1a4d6-a82a-41dd-969f-586ce9061e74');\n",
              "        const dataTable =\n",
              "          await google.colab.kernel.invokeFunction('convertToInteractive',\n",
              "                                                    [key], {});\n",
              "        if (!dataTable) return;\n",
              "\n",
              "        const docLinkHtml = 'Like what you see? Visit the ' +\n",
              "          '<a target=\"_blank\" href=https://colab.research.google.com/notebooks/data_table.ipynb>data table notebook</a>'\n",
              "          + ' to learn more about interactive tables.';\n",
              "        element.innerHTML = '';\n",
              "        dataTable['output_type'] = 'display_data';\n",
              "        await google.colab.output.renderOutput(dataTable, element);\n",
              "        const docLink = document.createElement('div');\n",
              "        docLink.innerHTML = docLinkHtml;\n",
              "        element.appendChild(docLink);\n",
              "      }\n",
              "    </script>\n",
              "  </div>\n",
              "\n",
              "\n",
              "<div id=\"df-3929042b-f5aa-431b-82b9-ee121716e776\">\n",
              "  <button class=\"colab-df-quickchart\" onclick=\"quickchart('df-3929042b-f5aa-431b-82b9-ee121716e776')\"\n",
              "            title=\"Suggest charts\"\n",
              "            style=\"display:none;\">\n",
              "\n",
              "<svg xmlns=\"http://www.w3.org/2000/svg\" height=\"24px\"viewBox=\"0 0 24 24\"\n",
              "     width=\"24px\">\n",
              "    <g>\n",
              "        <path d=\"M19 3H5c-1.1 0-2 .9-2 2v14c0 1.1.9 2 2 2h14c1.1 0 2-.9 2-2V5c0-1.1-.9-2-2-2zM9 17H7v-7h2v7zm4 0h-2V7h2v10zm4 0h-2v-4h2v4z\"/>\n",
              "    </g>\n",
              "</svg>\n",
              "  </button>\n",
              "\n",
              "<style>\n",
              "  .colab-df-quickchart {\n",
              "      --bg-color: #E8F0FE;\n",
              "      --fill-color: #1967D2;\n",
              "      --hover-bg-color: #E2EBFA;\n",
              "      --hover-fill-color: #174EA6;\n",
              "      --disabled-fill-color: #AAA;\n",
              "      --disabled-bg-color: #DDD;\n",
              "  }\n",
              "\n",
              "  [theme=dark] .colab-df-quickchart {\n",
              "      --bg-color: #3B4455;\n",
              "      --fill-color: #D2E3FC;\n",
              "      --hover-bg-color: #434B5C;\n",
              "      --hover-fill-color: #FFFFFF;\n",
              "      --disabled-bg-color: #3B4455;\n",
              "      --disabled-fill-color: #666;\n",
              "  }\n",
              "\n",
              "  .colab-df-quickchart {\n",
              "    background-color: var(--bg-color);\n",
              "    border: none;\n",
              "    border-radius: 50%;\n",
              "    cursor: pointer;\n",
              "    display: none;\n",
              "    fill: var(--fill-color);\n",
              "    height: 32px;\n",
              "    padding: 0;\n",
              "    width: 32px;\n",
              "  }\n",
              "\n",
              "  .colab-df-quickchart:hover {\n",
              "    background-color: var(--hover-bg-color);\n",
              "    box-shadow: 0 1px 2px rgba(60, 64, 67, 0.3), 0 1px 3px 1px rgba(60, 64, 67, 0.15);\n",
              "    fill: var(--button-hover-fill-color);\n",
              "  }\n",
              "\n",
              "  .colab-df-quickchart-complete:disabled,\n",
              "  .colab-df-quickchart-complete:disabled:hover {\n",
              "    background-color: var(--disabled-bg-color);\n",
              "    fill: var(--disabled-fill-color);\n",
              "    box-shadow: none;\n",
              "  }\n",
              "\n",
              "  .colab-df-spinner {\n",
              "    border: 2px solid var(--fill-color);\n",
              "    border-color: transparent;\n",
              "    border-bottom-color: var(--fill-color);\n",
              "    animation:\n",
              "      spin 1s steps(1) infinite;\n",
              "  }\n",
              "\n",
              "  @keyframes spin {\n",
              "    0% {\n",
              "      border-color: transparent;\n",
              "      border-bottom-color: var(--fill-color);\n",
              "      border-left-color: var(--fill-color);\n",
              "    }\n",
              "    20% {\n",
              "      border-color: transparent;\n",
              "      border-left-color: var(--fill-color);\n",
              "      border-top-color: var(--fill-color);\n",
              "    }\n",
              "    30% {\n",
              "      border-color: transparent;\n",
              "      border-left-color: var(--fill-color);\n",
              "      border-top-color: var(--fill-color);\n",
              "      border-right-color: var(--fill-color);\n",
              "    }\n",
              "    40% {\n",
              "      border-color: transparent;\n",
              "      border-right-color: var(--fill-color);\n",
              "      border-top-color: var(--fill-color);\n",
              "    }\n",
              "    60% {\n",
              "      border-color: transparent;\n",
              "      border-right-color: var(--fill-color);\n",
              "    }\n",
              "    80% {\n",
              "      border-color: transparent;\n",
              "      border-right-color: var(--fill-color);\n",
              "      border-bottom-color: var(--fill-color);\n",
              "    }\n",
              "    90% {\n",
              "      border-color: transparent;\n",
              "      border-bottom-color: var(--fill-color);\n",
              "    }\n",
              "  }\n",
              "</style>\n",
              "\n",
              "  <script>\n",
              "    async function quickchart(key) {\n",
              "      const quickchartButtonEl =\n",
              "        document.querySelector('#' + key + ' button');\n",
              "      quickchartButtonEl.disabled = true;  // To prevent multiple clicks.\n",
              "      quickchartButtonEl.classList.add('colab-df-spinner');\n",
              "      try {\n",
              "        const charts = await google.colab.kernel.invokeFunction(\n",
              "            'suggestCharts', [key], {});\n",
              "      } catch (error) {\n",
              "        console.error('Error during call to suggestCharts:', error);\n",
              "      }\n",
              "      quickchartButtonEl.classList.remove('colab-df-spinner');\n",
              "      quickchartButtonEl.classList.add('colab-df-quickchart-complete');\n",
              "    }\n",
              "    (() => {\n",
              "      let quickchartButtonEl =\n",
              "        document.querySelector('#df-3929042b-f5aa-431b-82b9-ee121716e776 button');\n",
              "      quickchartButtonEl.style.display =\n",
              "        google.colab.kernel.accessAllowed ? 'block' : 'none';\n",
              "    })();\n",
              "  </script>\n",
              "</div>\n",
              "\n",
              "    </div>\n",
              "  </div>\n"
            ],
            "application/vnd.google.colaboratory.intrinsic+json": {
              "type": "dataframe",
              "summary": "{\n  \"name\": \"create_dataframe(d8_4_1)\",\n  \"rows\": 3,\n  \"fields\": [\n    {\n      \"column\": \"data\",\n      \"properties\": {\n        \"dtype\": \"date\",\n        \"min\": \"2011-09-02 00:00:00\",\n        \"max\": \"2013-09-03 00:00:00\",\n        \"num_unique_values\": 3,\n        \"samples\": [\n          \"2011-09-02 00:00:00\",\n          \"2012-08-04 00:00:00\",\n          \"2013-09-03 00:00:00\"\n        ],\n        \"semantic_type\": \"\",\n        \"description\": \"\"\n      }\n    },\n    {\n      \"column\": \"0\",\n      \"properties\": {\n        \"dtype\": \"number\",\n        \"std\": 0.45763886781318447,\n        \"min\": -0.96,\n        \"max\": -0.05,\n        \"num_unique_values\": 3,\n        \"samples\": [\n          -0.96,\n          -0.05,\n          -0.42\n        ],\n        \"semantic_type\": \"\",\n        \"description\": \"\"\n      }\n    },\n    {\n      \"column\": \"mes\",\n      \"properties\": {\n        \"dtype\": \"int32\",\n        \"num_unique_values\": 2,\n        \"samples\": [\n          8,\n          9\n        ],\n        \"semantic_type\": \"\",\n        \"description\": \"\"\n      }\n    }\n  ]\n}"
            }
          },
          "metadata": {},
          "execution_count": 43
        }
      ]
    },
    {
      "cell_type": "code",
      "execution_count": 65,
      "metadata": {
        "id": "XukvxTEECSVo",
        "nbgrader": {
          "grade": false,
          "grade_id": "cell-c705ab9d11473b9f9",
          "locked": false,
          "schema_version": 3,
          "solution": true,
          "task": false
        }
      },
      "outputs": [],
      "source": [
        "prompt84 = \"\"\"Gerar um código que leia como argumento um forma dicionário de listas, com dois elementos, cada elemento é uma lista.\n",
        "A primeira lista com o nome 'data\" contem 3 strings no formato de datas (aaaa-mm-dd) e\n",
        "a segunda lista, como o nome \"0\", é compostas de 3 números float.\n",
        "O código deve forcener um dataframe com uma coluna como o nome \"data\" com os 3 strings no formato de datas;\n",
        "uma coluna com o nome 0 com os 3 números float;\n",
        "e uma coluna como o nome 'mes' com os meses em números (dtype=int32) extraidos da coluna data por meio da biblioteca datetime, ao usar datetime use datetime.datetime\"\"\""
      ]
    },
    {
      "cell_type": "code",
      "execution_count": 66,
      "metadata": {
        "id": "sfnmg1u2CSVr",
        "colab": {
          "base_uri": "https://localhost:8080/"
        },
        "outputId": "b7c6b1be-44a4-41a3-d8bb-bcf6dfa9e401"
      },
      "outputs": [
        {
          "output_type": "stream",
          "name": "stdout",
          "text": [
            "Codigo gerado: \n",
            "def criar_dataframe(dicionario):\n",
            "    data = dicionario['data']\n",
            "    numeros = dicionario['0']\n",
            "    \n",
            "    # Criando o DataFrame\n",
            "    df = pd.DataFrame({\n",
            "        'data': data,\n",
            "        '0': numeros\n",
            "    })\n",
            "    \n",
            "    # Extraindo o mês e adicionando ao DataFrame\n",
            "    df['mes'] = pd.to_datetime(df['data']).dt.month.astype('int32')\n",
            "    \n",
            "    return df\n",
            "\n",
            "✅ Passed the Test Case!\n",
            "  Expected: {'data': {'aggregation_checks': {'sum': {'0': -1.5, 'mes': 26.0}, 'total_rows': {'max': 3, 'min': 3}}, 'columns': ['data', '0', 'mes'], 'dtypes': {'0': 'float64', 'data': 'object', 'mes': 'int32'}, 'sample_rows': [{'expected_values': {'mes': 9}, 'filter': {'0': -0.96}}]}, 'type': 'dataframe', 'validation_rules': {'round_decimals': 1, 'row_match_threshold': 0.01, 'tolerance': 3}}\n",
            "  Delivered: {'aggregation_summary': {'sums': {'0': -1.5, 'mes': 26.0}, 'total_rows': {'max': 3, 'min': 3}}, 'column_analysis': {'expected_columns': ['data', '0', 'mes'], 'missing_columns': [], 'possible_matches': {}, 'provided_columns': ['data', '0', 'mes'], 'unexpected_columns': []}, 'verified_samples': [{'expected_values': {'mes': 9}, 'filter': {'0': -0.96}}]}\n"
          ]
        }
      ],
      "source": [
        "validate(prompt84, \"A8-E4\")"
      ]
    },
    {
      "cell_type": "markdown",
      "metadata": {
        "id": "nzEJf3jHAl1w"
      },
      "source": [
        "### 8.5 Escreva um prompt de uma função python utilizando a biblioteca de regex para extrair o padrão monstrado nos exemplos a seguir.\n",
        "\n",
        "#### Entrada: ```[\"(16) 91231-6165\", \"(16) 3231-6165\", \"16 91231-6165\", \"16 3231-6164\", \"3231-6165\", \"91231-616\"]```\n",
        "\n",
        "\n",
        "#### Saída: ```[\"(16) 91231-6165\", \"(16) 3231-6165\", \"16 91231-6165\", \"16 3231-6164\"]```\n"
      ]
    },
    {
      "cell_type": "code",
      "execution_count": 3,
      "metadata": {
        "id": "Sq-1l0nZJ7Mo"
      },
      "outputs": [],
      "source": [
        "d8_5_1 = [\"(16) 91231-6165\", \"(16) 3231-6165\", \"16 91231-6165\", \"16 3231-6164\", \"3231-6165\", \"91231-616\"]"
      ]
    },
    {
      "cell_type": "code",
      "source": [
        "# prompt: Gerar um código que receba como um argumento uma lista no qual os elementos são strings.\n",
        "# O código deve utilizar a biblioteca regex para analisar cada elemento da lista e retornar uma listas dos string que começem com (16) ou 16.\n",
        "\n",
        "import re\n",
        "\n",
        "def find_16_patterns(input_list):\n",
        "    \"\"\"\n",
        "    Finds strings in a list that start with \"(16)\" or \"16\".\n",
        "\n",
        "    Args:\n",
        "        input_list: A list of strings.\n",
        "\n",
        "    Returns:\n",
        "        A list of strings that match the specified pattern.\n",
        "    \"\"\"\n",
        "    pattern = r\"^\\(?(16)\\)?\\s?\"  # Matches strings starting with \"(16)\" or \"16\"\n",
        "    matches = [s for s in input_list if re.match(pattern, s)]\n",
        "    return matches\n"
      ],
      "metadata": {
        "id": "4VhWgeJ0mABE"
      },
      "execution_count": 4,
      "outputs": []
    },
    {
      "cell_type": "code",
      "source": [
        "find_16_patterns(d8_5_1)"
      ],
      "metadata": {
        "id": "0LjiXpaYn6sO",
        "outputId": "d26a543b-e897-44cf-db08-8464f80f6462",
        "colab": {
          "base_uri": "https://localhost:8080/"
        }
      },
      "execution_count": 5,
      "outputs": [
        {
          "output_type": "execute_result",
          "data": {
            "text/plain": [
              "['(16) 91231-6165', '(16) 3231-6165', '16 91231-6165', '16 3231-6164']"
            ]
          },
          "metadata": {},
          "execution_count": 5
        }
      ]
    },
    {
      "cell_type": "code",
      "execution_count": 13,
      "metadata": {
        "id": "lmcuYdJ8CTJc",
        "nbgrader": {
          "grade": false,
          "grade_id": "cell-c705ab9d11473b9f9",
          "locked": false,
          "schema_version": 3,
          "solution": true,
          "task": false
        }
      },
      "outputs": [],
      "source": [
        "prompt85 = \"\"\"Gerar um código que receba como um argumento uma lista no qual os elementos são strings.\n",
        "O código deve utilizar a biblioteca regex para analisar cada elemento da lista e retornar uma listas dos string que começem com \"(16)' ou '16'.     \"\"\""
      ]
    },
    {
      "cell_type": "code",
      "execution_count": 14,
      "metadata": {
        "id": "G8ekZAXSCTJc",
        "colab": {
          "base_uri": "https://localhost:8080/"
        },
        "outputId": "f4cfc0d8-f309-43ee-8dae-72aadd701953"
      },
      "outputs": [
        {
          "output_type": "stream",
          "name": "stdout",
          "text": [
            "Codigo gerado: \n",
            "def filtrar_strings(lista):\n",
            "\n",
            "    resultado = []\n",
            "    padrao = r'^(16|\\(16\\))'\n",
            "    \n",
            "    for elemento in lista:\n",
            "        if re.match(padrao, elemento):\n",
            "            resultado.append(elemento)\n",
            "    \n",
            "    return resultado\n",
            "\n",
            "✅ Passed the Test Case!\n",
            "  Expected: ['(16) 91231-6165', '(16) 3231-6165', '16 91231-6165', '16 3231-6164']\n",
            "  Delivered: ['(16) 91231-6165', '(16) 3231-6165', '16 91231-6165', '16 3231-6164']\n"
          ]
        }
      ],
      "source": [
        "validate(prompt85, \"A8-E5\")"
      ]
    },
    {
      "cell_type": "markdown",
      "metadata": {
        "id": "0vsm5KZhAwHD"
      },
      "source": [
        "### 8.6 Escreva um prompt de uma função python para realizar a transformação monstrada no exemplo a seguir.\n",
        "#### **Dica:** Ultimo dia útil do **mês**. O pandas só faz conta de datas dados do tipo datetime. Com o tipo string não é possível fazer operações matematicas de data.\n",
        "#### Entrada: ```2024```\n",
        "\n",
        "\n",
        "#### Saída: Um dataframe igual a esse\n",
        "\n",
        "|    | Col1                | Col2      |\n",
        "|---:|:--------------------|:----------|\n",
        "|  0 | 2024-01-31 00:00:00 | Wednesday |\n",
        "|  1 | 2024-02-29 00:00:00 | Thursday  |\n",
        "|  2 | 2024-03-29 00:00:00 | Friday    |\n",
        "|  3 | 2024-04-30 00:00:00 | Tuesday   |\n",
        "|  4 | 2024-05-31 00:00:00 | Friday    |\n",
        "|  5 | 2024-06-28 00:00:00 | Friday    |\n",
        "|  6 | 2024-07-31 00:00:00 | Wednesday |\n",
        "|  7 | 2024-08-30 00:00:00 | Friday    |\n",
        "|  8 | 2024-09-30 00:00:00 | Monday    |\n",
        "|  9 | 2024-10-31 00:00:00 | Thursday  |\n",
        "| 10 | 2024-11-29 00:00:00 | Friday    |\n",
        "| 11 | 2024-12-31 00:00:00 | Tuesday   |\n"
      ]
    },
    {
      "cell_type": "code",
      "source": [
        "# prompt: Gerar um codigo utilizando a biblioteca datetime leia como argumento uma string que corresponde ao um ano.\n",
        "# O código deve retornar um dataframe com duas colunas 'Col1' e 'Col2'.\n",
        "# A Col1 deve conter a data do ultimo dia de cada mês (de janeiro a dezembro nesta ordem) que não sejam sábado e domingo, espaço, o horário '00:00:00'. Por exemplos: '2024-01-31 00:00:00'  e  '2024-03-29 00:00:00'.\n",
        "# A Col2 deve retorna uma string com o dia da semana da respectiva data na lingua inglesa. Exemplo: 'Wednesday' e 'Frinday'\n",
        "\n",
        "import pandas as pd\n",
        "from datetime import datetime, timedelta\n",
        "\n",
        "def ultimo_dia_util_mes(ano):\n",
        "    col1 = []\n",
        "    col2 = []\n",
        "    for mes in range(1, 13):\n",
        "        data = datetime(ano, mes, 1)\n",
        "        proximo_mes = 1\n",
        "        if mes == 12:\n",
        "            proximo_mes = 1\n",
        "            data = datetime(ano + 1, proximo_mes, 1)\n",
        "        else:\n",
        "            data = datetime(ano, mes + 1, 1)\n",
        "\n",
        "        data = data - timedelta(days=1)\n",
        "        while data.weekday() > 4 :\n",
        "            data = data - timedelta(days=1)\n",
        "\n",
        "        col1.append(str(data)[:10] + ' 00:00:00')\n",
        "        col2.append(data.strftime(\"%A\"))\n",
        "\n",
        "    df = pd.DataFrame({'Col1': col1, 'Col2': col2})\n",
        "    return df\n"
      ],
      "metadata": {
        "id": "aufBdrW5r1RW"
      },
      "execution_count": 15,
      "outputs": []
    },
    {
      "cell_type": "code",
      "source": [
        "ano = 2024\n",
        "\n",
        "\n",
        "ultimo_dia_util_mes(ano)"
      ],
      "metadata": {
        "id": "W04kmnXVuuH7",
        "outputId": "66b21e7c-0394-4a2b-f0c7-792e3c0529fa",
        "colab": {
          "base_uri": "https://localhost:8080/",
          "height": 425
        }
      },
      "execution_count": 16,
      "outputs": [
        {
          "output_type": "execute_result",
          "data": {
            "text/plain": [
              "                   Col1       Col2\n",
              "0   2024-01-31 00:00:00  Wednesday\n",
              "1   2024-02-29 00:00:00   Thursday\n",
              "2   2024-03-29 00:00:00     Friday\n",
              "3   2024-04-30 00:00:00    Tuesday\n",
              "4   2024-05-31 00:00:00     Friday\n",
              "5   2024-06-28 00:00:00     Friday\n",
              "6   2024-07-31 00:00:00  Wednesday\n",
              "7   2024-08-30 00:00:00     Friday\n",
              "8   2024-09-30 00:00:00     Monday\n",
              "9   2024-10-31 00:00:00   Thursday\n",
              "10  2024-11-29 00:00:00     Friday\n",
              "11  2024-12-31 00:00:00    Tuesday"
            ],
            "text/html": [
              "\n",
              "  <div id=\"df-af1951e5-7455-41f6-b34e-cd7d999f64cb\" class=\"colab-df-container\">\n",
              "    <div>\n",
              "<style scoped>\n",
              "    .dataframe tbody tr th:only-of-type {\n",
              "        vertical-align: middle;\n",
              "    }\n",
              "\n",
              "    .dataframe tbody tr th {\n",
              "        vertical-align: top;\n",
              "    }\n",
              "\n",
              "    .dataframe thead th {\n",
              "        text-align: right;\n",
              "    }\n",
              "</style>\n",
              "<table border=\"1\" class=\"dataframe\">\n",
              "  <thead>\n",
              "    <tr style=\"text-align: right;\">\n",
              "      <th></th>\n",
              "      <th>Col1</th>\n",
              "      <th>Col2</th>\n",
              "    </tr>\n",
              "  </thead>\n",
              "  <tbody>\n",
              "    <tr>\n",
              "      <th>0</th>\n",
              "      <td>2024-01-31 00:00:00</td>\n",
              "      <td>Wednesday</td>\n",
              "    </tr>\n",
              "    <tr>\n",
              "      <th>1</th>\n",
              "      <td>2024-02-29 00:00:00</td>\n",
              "      <td>Thursday</td>\n",
              "    </tr>\n",
              "    <tr>\n",
              "      <th>2</th>\n",
              "      <td>2024-03-29 00:00:00</td>\n",
              "      <td>Friday</td>\n",
              "    </tr>\n",
              "    <tr>\n",
              "      <th>3</th>\n",
              "      <td>2024-04-30 00:00:00</td>\n",
              "      <td>Tuesday</td>\n",
              "    </tr>\n",
              "    <tr>\n",
              "      <th>4</th>\n",
              "      <td>2024-05-31 00:00:00</td>\n",
              "      <td>Friday</td>\n",
              "    </tr>\n",
              "    <tr>\n",
              "      <th>5</th>\n",
              "      <td>2024-06-28 00:00:00</td>\n",
              "      <td>Friday</td>\n",
              "    </tr>\n",
              "    <tr>\n",
              "      <th>6</th>\n",
              "      <td>2024-07-31 00:00:00</td>\n",
              "      <td>Wednesday</td>\n",
              "    </tr>\n",
              "    <tr>\n",
              "      <th>7</th>\n",
              "      <td>2024-08-30 00:00:00</td>\n",
              "      <td>Friday</td>\n",
              "    </tr>\n",
              "    <tr>\n",
              "      <th>8</th>\n",
              "      <td>2024-09-30 00:00:00</td>\n",
              "      <td>Monday</td>\n",
              "    </tr>\n",
              "    <tr>\n",
              "      <th>9</th>\n",
              "      <td>2024-10-31 00:00:00</td>\n",
              "      <td>Thursday</td>\n",
              "    </tr>\n",
              "    <tr>\n",
              "      <th>10</th>\n",
              "      <td>2024-11-29 00:00:00</td>\n",
              "      <td>Friday</td>\n",
              "    </tr>\n",
              "    <tr>\n",
              "      <th>11</th>\n",
              "      <td>2024-12-31 00:00:00</td>\n",
              "      <td>Tuesday</td>\n",
              "    </tr>\n",
              "  </tbody>\n",
              "</table>\n",
              "</div>\n",
              "    <div class=\"colab-df-buttons\">\n",
              "\n",
              "  <div class=\"colab-df-container\">\n",
              "    <button class=\"colab-df-convert\" onclick=\"convertToInteractive('df-af1951e5-7455-41f6-b34e-cd7d999f64cb')\"\n",
              "            title=\"Convert this dataframe to an interactive table.\"\n",
              "            style=\"display:none;\">\n",
              "\n",
              "  <svg xmlns=\"http://www.w3.org/2000/svg\" height=\"24px\" viewBox=\"0 -960 960 960\">\n",
              "    <path d=\"M120-120v-720h720v720H120Zm60-500h600v-160H180v160Zm220 220h160v-160H400v160Zm0 220h160v-160H400v160ZM180-400h160v-160H180v160Zm440 0h160v-160H620v160ZM180-180h160v-160H180v160Zm440 0h160v-160H620v160Z\"/>\n",
              "  </svg>\n",
              "    </button>\n",
              "\n",
              "  <style>\n",
              "    .colab-df-container {\n",
              "      display:flex;\n",
              "      gap: 12px;\n",
              "    }\n",
              "\n",
              "    .colab-df-convert {\n",
              "      background-color: #E8F0FE;\n",
              "      border: none;\n",
              "      border-radius: 50%;\n",
              "      cursor: pointer;\n",
              "      display: none;\n",
              "      fill: #1967D2;\n",
              "      height: 32px;\n",
              "      padding: 0 0 0 0;\n",
              "      width: 32px;\n",
              "    }\n",
              "\n",
              "    .colab-df-convert:hover {\n",
              "      background-color: #E2EBFA;\n",
              "      box-shadow: 0px 1px 2px rgba(60, 64, 67, 0.3), 0px 1px 3px 1px rgba(60, 64, 67, 0.15);\n",
              "      fill: #174EA6;\n",
              "    }\n",
              "\n",
              "    .colab-df-buttons div {\n",
              "      margin-bottom: 4px;\n",
              "    }\n",
              "\n",
              "    [theme=dark] .colab-df-convert {\n",
              "      background-color: #3B4455;\n",
              "      fill: #D2E3FC;\n",
              "    }\n",
              "\n",
              "    [theme=dark] .colab-df-convert:hover {\n",
              "      background-color: #434B5C;\n",
              "      box-shadow: 0px 1px 3px 1px rgba(0, 0, 0, 0.15);\n",
              "      filter: drop-shadow(0px 1px 2px rgba(0, 0, 0, 0.3));\n",
              "      fill: #FFFFFF;\n",
              "    }\n",
              "  </style>\n",
              "\n",
              "    <script>\n",
              "      const buttonEl =\n",
              "        document.querySelector('#df-af1951e5-7455-41f6-b34e-cd7d999f64cb button.colab-df-convert');\n",
              "      buttonEl.style.display =\n",
              "        google.colab.kernel.accessAllowed ? 'block' : 'none';\n",
              "\n",
              "      async function convertToInteractive(key) {\n",
              "        const element = document.querySelector('#df-af1951e5-7455-41f6-b34e-cd7d999f64cb');\n",
              "        const dataTable =\n",
              "          await google.colab.kernel.invokeFunction('convertToInteractive',\n",
              "                                                    [key], {});\n",
              "        if (!dataTable) return;\n",
              "\n",
              "        const docLinkHtml = 'Like what you see? Visit the ' +\n",
              "          '<a target=\"_blank\" href=https://colab.research.google.com/notebooks/data_table.ipynb>data table notebook</a>'\n",
              "          + ' to learn more about interactive tables.';\n",
              "        element.innerHTML = '';\n",
              "        dataTable['output_type'] = 'display_data';\n",
              "        await google.colab.output.renderOutput(dataTable, element);\n",
              "        const docLink = document.createElement('div');\n",
              "        docLink.innerHTML = docLinkHtml;\n",
              "        element.appendChild(docLink);\n",
              "      }\n",
              "    </script>\n",
              "  </div>\n",
              "\n",
              "\n",
              "<div id=\"df-fc49bc63-2a3f-4e34-8c7f-455324c43a7e\">\n",
              "  <button class=\"colab-df-quickchart\" onclick=\"quickchart('df-fc49bc63-2a3f-4e34-8c7f-455324c43a7e')\"\n",
              "            title=\"Suggest charts\"\n",
              "            style=\"display:none;\">\n",
              "\n",
              "<svg xmlns=\"http://www.w3.org/2000/svg\" height=\"24px\"viewBox=\"0 0 24 24\"\n",
              "     width=\"24px\">\n",
              "    <g>\n",
              "        <path d=\"M19 3H5c-1.1 0-2 .9-2 2v14c0 1.1.9 2 2 2h14c1.1 0 2-.9 2-2V5c0-1.1-.9-2-2-2zM9 17H7v-7h2v7zm4 0h-2V7h2v10zm4 0h-2v-4h2v4z\"/>\n",
              "    </g>\n",
              "</svg>\n",
              "  </button>\n",
              "\n",
              "<style>\n",
              "  .colab-df-quickchart {\n",
              "      --bg-color: #E8F0FE;\n",
              "      --fill-color: #1967D2;\n",
              "      --hover-bg-color: #E2EBFA;\n",
              "      --hover-fill-color: #174EA6;\n",
              "      --disabled-fill-color: #AAA;\n",
              "      --disabled-bg-color: #DDD;\n",
              "  }\n",
              "\n",
              "  [theme=dark] .colab-df-quickchart {\n",
              "      --bg-color: #3B4455;\n",
              "      --fill-color: #D2E3FC;\n",
              "      --hover-bg-color: #434B5C;\n",
              "      --hover-fill-color: #FFFFFF;\n",
              "      --disabled-bg-color: #3B4455;\n",
              "      --disabled-fill-color: #666;\n",
              "  }\n",
              "\n",
              "  .colab-df-quickchart {\n",
              "    background-color: var(--bg-color);\n",
              "    border: none;\n",
              "    border-radius: 50%;\n",
              "    cursor: pointer;\n",
              "    display: none;\n",
              "    fill: var(--fill-color);\n",
              "    height: 32px;\n",
              "    padding: 0;\n",
              "    width: 32px;\n",
              "  }\n",
              "\n",
              "  .colab-df-quickchart:hover {\n",
              "    background-color: var(--hover-bg-color);\n",
              "    box-shadow: 0 1px 2px rgba(60, 64, 67, 0.3), 0 1px 3px 1px rgba(60, 64, 67, 0.15);\n",
              "    fill: var(--button-hover-fill-color);\n",
              "  }\n",
              "\n",
              "  .colab-df-quickchart-complete:disabled,\n",
              "  .colab-df-quickchart-complete:disabled:hover {\n",
              "    background-color: var(--disabled-bg-color);\n",
              "    fill: var(--disabled-fill-color);\n",
              "    box-shadow: none;\n",
              "  }\n",
              "\n",
              "  .colab-df-spinner {\n",
              "    border: 2px solid var(--fill-color);\n",
              "    border-color: transparent;\n",
              "    border-bottom-color: var(--fill-color);\n",
              "    animation:\n",
              "      spin 1s steps(1) infinite;\n",
              "  }\n",
              "\n",
              "  @keyframes spin {\n",
              "    0% {\n",
              "      border-color: transparent;\n",
              "      border-bottom-color: var(--fill-color);\n",
              "      border-left-color: var(--fill-color);\n",
              "    }\n",
              "    20% {\n",
              "      border-color: transparent;\n",
              "      border-left-color: var(--fill-color);\n",
              "      border-top-color: var(--fill-color);\n",
              "    }\n",
              "    30% {\n",
              "      border-color: transparent;\n",
              "      border-left-color: var(--fill-color);\n",
              "      border-top-color: var(--fill-color);\n",
              "      border-right-color: var(--fill-color);\n",
              "    }\n",
              "    40% {\n",
              "      border-color: transparent;\n",
              "      border-right-color: var(--fill-color);\n",
              "      border-top-color: var(--fill-color);\n",
              "    }\n",
              "    60% {\n",
              "      border-color: transparent;\n",
              "      border-right-color: var(--fill-color);\n",
              "    }\n",
              "    80% {\n",
              "      border-color: transparent;\n",
              "      border-right-color: var(--fill-color);\n",
              "      border-bottom-color: var(--fill-color);\n",
              "    }\n",
              "    90% {\n",
              "      border-color: transparent;\n",
              "      border-bottom-color: var(--fill-color);\n",
              "    }\n",
              "  }\n",
              "</style>\n",
              "\n",
              "  <script>\n",
              "    async function quickchart(key) {\n",
              "      const quickchartButtonEl =\n",
              "        document.querySelector('#' + key + ' button');\n",
              "      quickchartButtonEl.disabled = true;  // To prevent multiple clicks.\n",
              "      quickchartButtonEl.classList.add('colab-df-spinner');\n",
              "      try {\n",
              "        const charts = await google.colab.kernel.invokeFunction(\n",
              "            'suggestCharts', [key], {});\n",
              "      } catch (error) {\n",
              "        console.error('Error during call to suggestCharts:', error);\n",
              "      }\n",
              "      quickchartButtonEl.classList.remove('colab-df-spinner');\n",
              "      quickchartButtonEl.classList.add('colab-df-quickchart-complete');\n",
              "    }\n",
              "    (() => {\n",
              "      let quickchartButtonEl =\n",
              "        document.querySelector('#df-fc49bc63-2a3f-4e34-8c7f-455324c43a7e button');\n",
              "      quickchartButtonEl.style.display =\n",
              "        google.colab.kernel.accessAllowed ? 'block' : 'none';\n",
              "    })();\n",
              "  </script>\n",
              "</div>\n",
              "\n",
              "    </div>\n",
              "  </div>\n"
            ],
            "application/vnd.google.colaboratory.intrinsic+json": {
              "type": "dataframe",
              "summary": "{\n  \"name\": \"ultimo_dia_util_mes(ano)\",\n  \"rows\": 12,\n  \"fields\": [\n    {\n      \"column\": \"Col1\",\n      \"properties\": {\n        \"dtype\": \"object\",\n        \"num_unique_values\": 12,\n        \"samples\": [\n          \"2024-11-29 00:00:00\",\n          \"2024-10-31 00:00:00\",\n          \"2024-01-31 00:00:00\"\n        ],\n        \"semantic_type\": \"\",\n        \"description\": \"\"\n      }\n    },\n    {\n      \"column\": \"Col2\",\n      \"properties\": {\n        \"dtype\": \"category\",\n        \"num_unique_values\": 5,\n        \"samples\": [\n          \"Thursday\",\n          \"Monday\",\n          \"Friday\"\n        ],\n        \"semantic_type\": \"\",\n        \"description\": \"\"\n      }\n    }\n  ]\n}"
            }
          },
          "metadata": {},
          "execution_count": 16
        }
      ]
    },
    {
      "cell_type": "code",
      "source": [
        "def gerar_dataframe_ultimo_dia_mes(ano_str):\n",
        "\n",
        "\n",
        "    ano = int(ano_str)\n",
        "    data_final = []\n",
        "\n",
        "    for mes in range(1, 13):\n",
        "        ultimo_dia = (datetime(ano, mes + 1, 1) - timedelta(days=1)) if mes < 12 else datetime(ano, mes, 31)\n",
        "\n",
        "        while ultimo_dia.weekday() >= 5:  # 5 = Saturday, 6 = Sunday\n",
        "            ultimo_dia -= timedelta(days=1)\n",
        "\n",
        "        data_string = ultimo_dia.strftime('%Y-%m-%d 00:00:00')\n",
        "        dia_semana = ultimo_dia.strftime('%A')\n",
        "        data_final.append({'Col1': data_string, 'Col2': dia_semana})\n",
        "\n",
        "    dataframe_resultado = pd.DataFrame(data_final)\n",
        "    return dataframe_resultado\n",
        "\n",
        "\n",
        "ano = '2024'\n",
        "gerar_dataframe_ultimo_dia_mes(ano)"
      ],
      "metadata": {
        "id": "-CInNsiqwNJU",
        "outputId": "8f8b9851-534f-410b-cd2e-278e0eb56452",
        "colab": {
          "base_uri": "https://localhost:8080/",
          "height": 425
        }
      },
      "execution_count": 42,
      "outputs": [
        {
          "output_type": "execute_result",
          "data": {
            "text/plain": [
              "                   Col1       Col2\n",
              "0   2024-01-31 00:00:00  Wednesday\n",
              "1   2024-02-29 00:00:00   Thursday\n",
              "2   2024-03-29 00:00:00     Friday\n",
              "3   2024-04-30 00:00:00    Tuesday\n",
              "4   2024-05-31 00:00:00     Friday\n",
              "5   2024-06-28 00:00:00     Friday\n",
              "6   2024-07-31 00:00:00  Wednesday\n",
              "7   2024-08-30 00:00:00     Friday\n",
              "8   2024-09-30 00:00:00     Monday\n",
              "9   2024-10-31 00:00:00   Thursday\n",
              "10  2024-11-29 00:00:00     Friday\n",
              "11  2024-12-31 00:00:00    Tuesday"
            ],
            "text/html": [
              "\n",
              "  <div id=\"df-ec632748-afd8-4adf-a432-9c33bbf0c1ed\" class=\"colab-df-container\">\n",
              "    <div>\n",
              "<style scoped>\n",
              "    .dataframe tbody tr th:only-of-type {\n",
              "        vertical-align: middle;\n",
              "    }\n",
              "\n",
              "    .dataframe tbody tr th {\n",
              "        vertical-align: top;\n",
              "    }\n",
              "\n",
              "    .dataframe thead th {\n",
              "        text-align: right;\n",
              "    }\n",
              "</style>\n",
              "<table border=\"1\" class=\"dataframe\">\n",
              "  <thead>\n",
              "    <tr style=\"text-align: right;\">\n",
              "      <th></th>\n",
              "      <th>Col1</th>\n",
              "      <th>Col2</th>\n",
              "    </tr>\n",
              "  </thead>\n",
              "  <tbody>\n",
              "    <tr>\n",
              "      <th>0</th>\n",
              "      <td>2024-01-31 00:00:00</td>\n",
              "      <td>Wednesday</td>\n",
              "    </tr>\n",
              "    <tr>\n",
              "      <th>1</th>\n",
              "      <td>2024-02-29 00:00:00</td>\n",
              "      <td>Thursday</td>\n",
              "    </tr>\n",
              "    <tr>\n",
              "      <th>2</th>\n",
              "      <td>2024-03-29 00:00:00</td>\n",
              "      <td>Friday</td>\n",
              "    </tr>\n",
              "    <tr>\n",
              "      <th>3</th>\n",
              "      <td>2024-04-30 00:00:00</td>\n",
              "      <td>Tuesday</td>\n",
              "    </tr>\n",
              "    <tr>\n",
              "      <th>4</th>\n",
              "      <td>2024-05-31 00:00:00</td>\n",
              "      <td>Friday</td>\n",
              "    </tr>\n",
              "    <tr>\n",
              "      <th>5</th>\n",
              "      <td>2024-06-28 00:00:00</td>\n",
              "      <td>Friday</td>\n",
              "    </tr>\n",
              "    <tr>\n",
              "      <th>6</th>\n",
              "      <td>2024-07-31 00:00:00</td>\n",
              "      <td>Wednesday</td>\n",
              "    </tr>\n",
              "    <tr>\n",
              "      <th>7</th>\n",
              "      <td>2024-08-30 00:00:00</td>\n",
              "      <td>Friday</td>\n",
              "    </tr>\n",
              "    <tr>\n",
              "      <th>8</th>\n",
              "      <td>2024-09-30 00:00:00</td>\n",
              "      <td>Monday</td>\n",
              "    </tr>\n",
              "    <tr>\n",
              "      <th>9</th>\n",
              "      <td>2024-10-31 00:00:00</td>\n",
              "      <td>Thursday</td>\n",
              "    </tr>\n",
              "    <tr>\n",
              "      <th>10</th>\n",
              "      <td>2024-11-29 00:00:00</td>\n",
              "      <td>Friday</td>\n",
              "    </tr>\n",
              "    <tr>\n",
              "      <th>11</th>\n",
              "      <td>2024-12-31 00:00:00</td>\n",
              "      <td>Tuesday</td>\n",
              "    </tr>\n",
              "  </tbody>\n",
              "</table>\n",
              "</div>\n",
              "    <div class=\"colab-df-buttons\">\n",
              "\n",
              "  <div class=\"colab-df-container\">\n",
              "    <button class=\"colab-df-convert\" onclick=\"convertToInteractive('df-ec632748-afd8-4adf-a432-9c33bbf0c1ed')\"\n",
              "            title=\"Convert this dataframe to an interactive table.\"\n",
              "            style=\"display:none;\">\n",
              "\n",
              "  <svg xmlns=\"http://www.w3.org/2000/svg\" height=\"24px\" viewBox=\"0 -960 960 960\">\n",
              "    <path d=\"M120-120v-720h720v720H120Zm60-500h600v-160H180v160Zm220 220h160v-160H400v160Zm0 220h160v-160H400v160ZM180-400h160v-160H180v160Zm440 0h160v-160H620v160ZM180-180h160v-160H180v160Zm440 0h160v-160H620v160Z\"/>\n",
              "  </svg>\n",
              "    </button>\n",
              "\n",
              "  <style>\n",
              "    .colab-df-container {\n",
              "      display:flex;\n",
              "      gap: 12px;\n",
              "    }\n",
              "\n",
              "    .colab-df-convert {\n",
              "      background-color: #E8F0FE;\n",
              "      border: none;\n",
              "      border-radius: 50%;\n",
              "      cursor: pointer;\n",
              "      display: none;\n",
              "      fill: #1967D2;\n",
              "      height: 32px;\n",
              "      padding: 0 0 0 0;\n",
              "      width: 32px;\n",
              "    }\n",
              "\n",
              "    .colab-df-convert:hover {\n",
              "      background-color: #E2EBFA;\n",
              "      box-shadow: 0px 1px 2px rgba(60, 64, 67, 0.3), 0px 1px 3px 1px rgba(60, 64, 67, 0.15);\n",
              "      fill: #174EA6;\n",
              "    }\n",
              "\n",
              "    .colab-df-buttons div {\n",
              "      margin-bottom: 4px;\n",
              "    }\n",
              "\n",
              "    [theme=dark] .colab-df-convert {\n",
              "      background-color: #3B4455;\n",
              "      fill: #D2E3FC;\n",
              "    }\n",
              "\n",
              "    [theme=dark] .colab-df-convert:hover {\n",
              "      background-color: #434B5C;\n",
              "      box-shadow: 0px 1px 3px 1px rgba(0, 0, 0, 0.15);\n",
              "      filter: drop-shadow(0px 1px 2px rgba(0, 0, 0, 0.3));\n",
              "      fill: #FFFFFF;\n",
              "    }\n",
              "  </style>\n",
              "\n",
              "    <script>\n",
              "      const buttonEl =\n",
              "        document.querySelector('#df-ec632748-afd8-4adf-a432-9c33bbf0c1ed button.colab-df-convert');\n",
              "      buttonEl.style.display =\n",
              "        google.colab.kernel.accessAllowed ? 'block' : 'none';\n",
              "\n",
              "      async function convertToInteractive(key) {\n",
              "        const element = document.querySelector('#df-ec632748-afd8-4adf-a432-9c33bbf0c1ed');\n",
              "        const dataTable =\n",
              "          await google.colab.kernel.invokeFunction('convertToInteractive',\n",
              "                                                    [key], {});\n",
              "        if (!dataTable) return;\n",
              "\n",
              "        const docLinkHtml = 'Like what you see? Visit the ' +\n",
              "          '<a target=\"_blank\" href=https://colab.research.google.com/notebooks/data_table.ipynb>data table notebook</a>'\n",
              "          + ' to learn more about interactive tables.';\n",
              "        element.innerHTML = '';\n",
              "        dataTable['output_type'] = 'display_data';\n",
              "        await google.colab.output.renderOutput(dataTable, element);\n",
              "        const docLink = document.createElement('div');\n",
              "        docLink.innerHTML = docLinkHtml;\n",
              "        element.appendChild(docLink);\n",
              "      }\n",
              "    </script>\n",
              "  </div>\n",
              "\n",
              "\n",
              "<div id=\"df-7620343d-8279-4051-8bc2-2dc926d97cc3\">\n",
              "  <button class=\"colab-df-quickchart\" onclick=\"quickchart('df-7620343d-8279-4051-8bc2-2dc926d97cc3')\"\n",
              "            title=\"Suggest charts\"\n",
              "            style=\"display:none;\">\n",
              "\n",
              "<svg xmlns=\"http://www.w3.org/2000/svg\" height=\"24px\"viewBox=\"0 0 24 24\"\n",
              "     width=\"24px\">\n",
              "    <g>\n",
              "        <path d=\"M19 3H5c-1.1 0-2 .9-2 2v14c0 1.1.9 2 2 2h14c1.1 0 2-.9 2-2V5c0-1.1-.9-2-2-2zM9 17H7v-7h2v7zm4 0h-2V7h2v10zm4 0h-2v-4h2v4z\"/>\n",
              "    </g>\n",
              "</svg>\n",
              "  </button>\n",
              "\n",
              "<style>\n",
              "  .colab-df-quickchart {\n",
              "      --bg-color: #E8F0FE;\n",
              "      --fill-color: #1967D2;\n",
              "      --hover-bg-color: #E2EBFA;\n",
              "      --hover-fill-color: #174EA6;\n",
              "      --disabled-fill-color: #AAA;\n",
              "      --disabled-bg-color: #DDD;\n",
              "  }\n",
              "\n",
              "  [theme=dark] .colab-df-quickchart {\n",
              "      --bg-color: #3B4455;\n",
              "      --fill-color: #D2E3FC;\n",
              "      --hover-bg-color: #434B5C;\n",
              "      --hover-fill-color: #FFFFFF;\n",
              "      --disabled-bg-color: #3B4455;\n",
              "      --disabled-fill-color: #666;\n",
              "  }\n",
              "\n",
              "  .colab-df-quickchart {\n",
              "    background-color: var(--bg-color);\n",
              "    border: none;\n",
              "    border-radius: 50%;\n",
              "    cursor: pointer;\n",
              "    display: none;\n",
              "    fill: var(--fill-color);\n",
              "    height: 32px;\n",
              "    padding: 0;\n",
              "    width: 32px;\n",
              "  }\n",
              "\n",
              "  .colab-df-quickchart:hover {\n",
              "    background-color: var(--hover-bg-color);\n",
              "    box-shadow: 0 1px 2px rgba(60, 64, 67, 0.3), 0 1px 3px 1px rgba(60, 64, 67, 0.15);\n",
              "    fill: var(--button-hover-fill-color);\n",
              "  }\n",
              "\n",
              "  .colab-df-quickchart-complete:disabled,\n",
              "  .colab-df-quickchart-complete:disabled:hover {\n",
              "    background-color: var(--disabled-bg-color);\n",
              "    fill: var(--disabled-fill-color);\n",
              "    box-shadow: none;\n",
              "  }\n",
              "\n",
              "  .colab-df-spinner {\n",
              "    border: 2px solid var(--fill-color);\n",
              "    border-color: transparent;\n",
              "    border-bottom-color: var(--fill-color);\n",
              "    animation:\n",
              "      spin 1s steps(1) infinite;\n",
              "  }\n",
              "\n",
              "  @keyframes spin {\n",
              "    0% {\n",
              "      border-color: transparent;\n",
              "      border-bottom-color: var(--fill-color);\n",
              "      border-left-color: var(--fill-color);\n",
              "    }\n",
              "    20% {\n",
              "      border-color: transparent;\n",
              "      border-left-color: var(--fill-color);\n",
              "      border-top-color: var(--fill-color);\n",
              "    }\n",
              "    30% {\n",
              "      border-color: transparent;\n",
              "      border-left-color: var(--fill-color);\n",
              "      border-top-color: var(--fill-color);\n",
              "      border-right-color: var(--fill-color);\n",
              "    }\n",
              "    40% {\n",
              "      border-color: transparent;\n",
              "      border-right-color: var(--fill-color);\n",
              "      border-top-color: var(--fill-color);\n",
              "    }\n",
              "    60% {\n",
              "      border-color: transparent;\n",
              "      border-right-color: var(--fill-color);\n",
              "    }\n",
              "    80% {\n",
              "      border-color: transparent;\n",
              "      border-right-color: var(--fill-color);\n",
              "      border-bottom-color: var(--fill-color);\n",
              "    }\n",
              "    90% {\n",
              "      border-color: transparent;\n",
              "      border-bottom-color: var(--fill-color);\n",
              "    }\n",
              "  }\n",
              "</style>\n",
              "\n",
              "  <script>\n",
              "    async function quickchart(key) {\n",
              "      const quickchartButtonEl =\n",
              "        document.querySelector('#' + key + ' button');\n",
              "      quickchartButtonEl.disabled = true;  // To prevent multiple clicks.\n",
              "      quickchartButtonEl.classList.add('colab-df-spinner');\n",
              "      try {\n",
              "        const charts = await google.colab.kernel.invokeFunction(\n",
              "            'suggestCharts', [key], {});\n",
              "      } catch (error) {\n",
              "        console.error('Error during call to suggestCharts:', error);\n",
              "      }\n",
              "      quickchartButtonEl.classList.remove('colab-df-spinner');\n",
              "      quickchartButtonEl.classList.add('colab-df-quickchart-complete');\n",
              "    }\n",
              "    (() => {\n",
              "      let quickchartButtonEl =\n",
              "        document.querySelector('#df-7620343d-8279-4051-8bc2-2dc926d97cc3 button');\n",
              "      quickchartButtonEl.style.display =\n",
              "        google.colab.kernel.accessAllowed ? 'block' : 'none';\n",
              "    })();\n",
              "  </script>\n",
              "</div>\n",
              "\n",
              "    </div>\n",
              "  </div>\n"
            ],
            "application/vnd.google.colaboratory.intrinsic+json": {
              "type": "dataframe",
              "summary": "{\n  \"name\": \"gerar_dataframe_ultimo_dia_mes(ano)\",\n  \"rows\": 12,\n  \"fields\": [\n    {\n      \"column\": \"Col1\",\n      \"properties\": {\n        \"dtype\": \"object\",\n        \"num_unique_values\": 12,\n        \"samples\": [\n          \"2024-11-29 00:00:00\",\n          \"2024-10-31 00:00:00\",\n          \"2024-01-31 00:00:00\"\n        ],\n        \"semantic_type\": \"\",\n        \"description\": \"\"\n      }\n    },\n    {\n      \"column\": \"Col2\",\n      \"properties\": {\n        \"dtype\": \"category\",\n        \"num_unique_values\": 5,\n        \"samples\": [\n          \"Thursday\",\n          \"Monday\",\n          \"Friday\"\n        ],\n        \"semantic_type\": \"\",\n        \"description\": \"\"\n      }\n    }\n  ]\n}"
            }
          },
          "metadata": {},
          "execution_count": 42
        }
      ]
    },
    {
      "cell_type": "code",
      "source": [
        "def generate_dataframe(year):\n",
        "\n",
        "\n",
        "    last_days = []\n",
        "    week_days = []\n",
        "\n",
        "    for month in range(1, 13):\n",
        "        # Get the last day of the month\n",
        "        last_day = datetime(year, month + 1, 1) - timedelta(days=1)\n",
        "        # Adjust to go back to the last weekday if it falls on Saturday or Sunday\n",
        "        while last_day.weekday() in (5, 6):  # 5 = Saturday, 6 = Sunday\n",
        "            last_day -= timedelta(days=1)\n",
        "\n",
        "        last_days.append(f\"{last_day.strftime('%Y-%m-%d')} 00:00:00\")\n",
        "        week_days.append(last_day.strftime('%A'))\n",
        "\n",
        "    df = pd.DataFrame({'Col1': last_days, 'Col2': week_days})\n",
        "    return df\n",
        "\n",
        "\n",
        "ano = 2024\n",
        "generate_dataframe(ano)"
      ],
      "metadata": {
        "id": "okxF9W2xzWY6",
        "outputId": "d63eab6d-a9ed-478b-d79d-cbd0dc860c5c",
        "colab": {
          "base_uri": "https://localhost:8080/",
          "height": 394
        }
      },
      "execution_count": 74,
      "outputs": [
        {
          "output_type": "execute_result",
          "data": {
            "text/plain": [
              "                   Col1       Col2\n",
              "0   2024-01-31 00:00:00  Wednesday\n",
              "1   2024-02-29 00:00:00   Thursday\n",
              "2   2024-03-29 00:00:00     Friday\n",
              "3   2024-04-30 00:00:00    Tuesday\n",
              "4   2024-05-31 00:00:00     Friday\n",
              "5   2024-06-28 00:00:00     Friday\n",
              "6   2024-07-31 00:00:00  Wednesday\n",
              "7   2024-08-30 00:00:00     Friday\n",
              "8   2024-09-30 00:00:00     Monday\n",
              "9   2024-10-31 00:00:00   Thursday\n",
              "10  2024-11-29 00:00:00     Friday"
            ],
            "text/html": [
              "\n",
              "  <div id=\"df-126b5a4b-7167-4fbe-821b-594411195c8f\" class=\"colab-df-container\">\n",
              "    <div>\n",
              "<style scoped>\n",
              "    .dataframe tbody tr th:only-of-type {\n",
              "        vertical-align: middle;\n",
              "    }\n",
              "\n",
              "    .dataframe tbody tr th {\n",
              "        vertical-align: top;\n",
              "    }\n",
              "\n",
              "    .dataframe thead th {\n",
              "        text-align: right;\n",
              "    }\n",
              "</style>\n",
              "<table border=\"1\" class=\"dataframe\">\n",
              "  <thead>\n",
              "    <tr style=\"text-align: right;\">\n",
              "      <th></th>\n",
              "      <th>Col1</th>\n",
              "      <th>Col2</th>\n",
              "    </tr>\n",
              "  </thead>\n",
              "  <tbody>\n",
              "    <tr>\n",
              "      <th>0</th>\n",
              "      <td>2024-01-31 00:00:00</td>\n",
              "      <td>Wednesday</td>\n",
              "    </tr>\n",
              "    <tr>\n",
              "      <th>1</th>\n",
              "      <td>2024-02-29 00:00:00</td>\n",
              "      <td>Thursday</td>\n",
              "    </tr>\n",
              "    <tr>\n",
              "      <th>2</th>\n",
              "      <td>2024-03-29 00:00:00</td>\n",
              "      <td>Friday</td>\n",
              "    </tr>\n",
              "    <tr>\n",
              "      <th>3</th>\n",
              "      <td>2024-04-30 00:00:00</td>\n",
              "      <td>Tuesday</td>\n",
              "    </tr>\n",
              "    <tr>\n",
              "      <th>4</th>\n",
              "      <td>2024-05-31 00:00:00</td>\n",
              "      <td>Friday</td>\n",
              "    </tr>\n",
              "    <tr>\n",
              "      <th>5</th>\n",
              "      <td>2024-06-28 00:00:00</td>\n",
              "      <td>Friday</td>\n",
              "    </tr>\n",
              "    <tr>\n",
              "      <th>6</th>\n",
              "      <td>2024-07-31 00:00:00</td>\n",
              "      <td>Wednesday</td>\n",
              "    </tr>\n",
              "    <tr>\n",
              "      <th>7</th>\n",
              "      <td>2024-08-30 00:00:00</td>\n",
              "      <td>Friday</td>\n",
              "    </tr>\n",
              "    <tr>\n",
              "      <th>8</th>\n",
              "      <td>2024-09-30 00:00:00</td>\n",
              "      <td>Monday</td>\n",
              "    </tr>\n",
              "    <tr>\n",
              "      <th>9</th>\n",
              "      <td>2024-10-31 00:00:00</td>\n",
              "      <td>Thursday</td>\n",
              "    </tr>\n",
              "    <tr>\n",
              "      <th>10</th>\n",
              "      <td>2024-11-29 00:00:00</td>\n",
              "      <td>Friday</td>\n",
              "    </tr>\n",
              "  </tbody>\n",
              "</table>\n",
              "</div>\n",
              "    <div class=\"colab-df-buttons\">\n",
              "\n",
              "  <div class=\"colab-df-container\">\n",
              "    <button class=\"colab-df-convert\" onclick=\"convertToInteractive('df-126b5a4b-7167-4fbe-821b-594411195c8f')\"\n",
              "            title=\"Convert this dataframe to an interactive table.\"\n",
              "            style=\"display:none;\">\n",
              "\n",
              "  <svg xmlns=\"http://www.w3.org/2000/svg\" height=\"24px\" viewBox=\"0 -960 960 960\">\n",
              "    <path d=\"M120-120v-720h720v720H120Zm60-500h600v-160H180v160Zm220 220h160v-160H400v160Zm0 220h160v-160H400v160ZM180-400h160v-160H180v160Zm440 0h160v-160H620v160ZM180-180h160v-160H180v160Zm440 0h160v-160H620v160Z\"/>\n",
              "  </svg>\n",
              "    </button>\n",
              "\n",
              "  <style>\n",
              "    .colab-df-container {\n",
              "      display:flex;\n",
              "      gap: 12px;\n",
              "    }\n",
              "\n",
              "    .colab-df-convert {\n",
              "      background-color: #E8F0FE;\n",
              "      border: none;\n",
              "      border-radius: 50%;\n",
              "      cursor: pointer;\n",
              "      display: none;\n",
              "      fill: #1967D2;\n",
              "      height: 32px;\n",
              "      padding: 0 0 0 0;\n",
              "      width: 32px;\n",
              "    }\n",
              "\n",
              "    .colab-df-convert:hover {\n",
              "      background-color: #E2EBFA;\n",
              "      box-shadow: 0px 1px 2px rgba(60, 64, 67, 0.3), 0px 1px 3px 1px rgba(60, 64, 67, 0.15);\n",
              "      fill: #174EA6;\n",
              "    }\n",
              "\n",
              "    .colab-df-buttons div {\n",
              "      margin-bottom: 4px;\n",
              "    }\n",
              "\n",
              "    [theme=dark] .colab-df-convert {\n",
              "      background-color: #3B4455;\n",
              "      fill: #D2E3FC;\n",
              "    }\n",
              "\n",
              "    [theme=dark] .colab-df-convert:hover {\n",
              "      background-color: #434B5C;\n",
              "      box-shadow: 0px 1px 3px 1px rgba(0, 0, 0, 0.15);\n",
              "      filter: drop-shadow(0px 1px 2px rgba(0, 0, 0, 0.3));\n",
              "      fill: #FFFFFF;\n",
              "    }\n",
              "  </style>\n",
              "\n",
              "    <script>\n",
              "      const buttonEl =\n",
              "        document.querySelector('#df-126b5a4b-7167-4fbe-821b-594411195c8f button.colab-df-convert');\n",
              "      buttonEl.style.display =\n",
              "        google.colab.kernel.accessAllowed ? 'block' : 'none';\n",
              "\n",
              "      async function convertToInteractive(key) {\n",
              "        const element = document.querySelector('#df-126b5a4b-7167-4fbe-821b-594411195c8f');\n",
              "        const dataTable =\n",
              "          await google.colab.kernel.invokeFunction('convertToInteractive',\n",
              "                                                    [key], {});\n",
              "        if (!dataTable) return;\n",
              "\n",
              "        const docLinkHtml = 'Like what you see? Visit the ' +\n",
              "          '<a target=\"_blank\" href=https://colab.research.google.com/notebooks/data_table.ipynb>data table notebook</a>'\n",
              "          + ' to learn more about interactive tables.';\n",
              "        element.innerHTML = '';\n",
              "        dataTable['output_type'] = 'display_data';\n",
              "        await google.colab.output.renderOutput(dataTable, element);\n",
              "        const docLink = document.createElement('div');\n",
              "        docLink.innerHTML = docLinkHtml;\n",
              "        element.appendChild(docLink);\n",
              "      }\n",
              "    </script>\n",
              "  </div>\n",
              "\n",
              "\n",
              "<div id=\"df-8d309884-2f9e-464f-9d17-a200a581d8ee\">\n",
              "  <button class=\"colab-df-quickchart\" onclick=\"quickchart('df-8d309884-2f9e-464f-9d17-a200a581d8ee')\"\n",
              "            title=\"Suggest charts\"\n",
              "            style=\"display:none;\">\n",
              "\n",
              "<svg xmlns=\"http://www.w3.org/2000/svg\" height=\"24px\"viewBox=\"0 0 24 24\"\n",
              "     width=\"24px\">\n",
              "    <g>\n",
              "        <path d=\"M19 3H5c-1.1 0-2 .9-2 2v14c0 1.1.9 2 2 2h14c1.1 0 2-.9 2-2V5c0-1.1-.9-2-2-2zM9 17H7v-7h2v7zm4 0h-2V7h2v10zm4 0h-2v-4h2v4z\"/>\n",
              "    </g>\n",
              "</svg>\n",
              "  </button>\n",
              "\n",
              "<style>\n",
              "  .colab-df-quickchart {\n",
              "      --bg-color: #E8F0FE;\n",
              "      --fill-color: #1967D2;\n",
              "      --hover-bg-color: #E2EBFA;\n",
              "      --hover-fill-color: #174EA6;\n",
              "      --disabled-fill-color: #AAA;\n",
              "      --disabled-bg-color: #DDD;\n",
              "  }\n",
              "\n",
              "  [theme=dark] .colab-df-quickchart {\n",
              "      --bg-color: #3B4455;\n",
              "      --fill-color: #D2E3FC;\n",
              "      --hover-bg-color: #434B5C;\n",
              "      --hover-fill-color: #FFFFFF;\n",
              "      --disabled-bg-color: #3B4455;\n",
              "      --disabled-fill-color: #666;\n",
              "  }\n",
              "\n",
              "  .colab-df-quickchart {\n",
              "    background-color: var(--bg-color);\n",
              "    border: none;\n",
              "    border-radius: 50%;\n",
              "    cursor: pointer;\n",
              "    display: none;\n",
              "    fill: var(--fill-color);\n",
              "    height: 32px;\n",
              "    padding: 0;\n",
              "    width: 32px;\n",
              "  }\n",
              "\n",
              "  .colab-df-quickchart:hover {\n",
              "    background-color: var(--hover-bg-color);\n",
              "    box-shadow: 0 1px 2px rgba(60, 64, 67, 0.3), 0 1px 3px 1px rgba(60, 64, 67, 0.15);\n",
              "    fill: var(--button-hover-fill-color);\n",
              "  }\n",
              "\n",
              "  .colab-df-quickchart-complete:disabled,\n",
              "  .colab-df-quickchart-complete:disabled:hover {\n",
              "    background-color: var(--disabled-bg-color);\n",
              "    fill: var(--disabled-fill-color);\n",
              "    box-shadow: none;\n",
              "  }\n",
              "\n",
              "  .colab-df-spinner {\n",
              "    border: 2px solid var(--fill-color);\n",
              "    border-color: transparent;\n",
              "    border-bottom-color: var(--fill-color);\n",
              "    animation:\n",
              "      spin 1s steps(1) infinite;\n",
              "  }\n",
              "\n",
              "  @keyframes spin {\n",
              "    0% {\n",
              "      border-color: transparent;\n",
              "      border-bottom-color: var(--fill-color);\n",
              "      border-left-color: var(--fill-color);\n",
              "    }\n",
              "    20% {\n",
              "      border-color: transparent;\n",
              "      border-left-color: var(--fill-color);\n",
              "      border-top-color: var(--fill-color);\n",
              "    }\n",
              "    30% {\n",
              "      border-color: transparent;\n",
              "      border-left-color: var(--fill-color);\n",
              "      border-top-color: var(--fill-color);\n",
              "      border-right-color: var(--fill-color);\n",
              "    }\n",
              "    40% {\n",
              "      border-color: transparent;\n",
              "      border-right-color: var(--fill-color);\n",
              "      border-top-color: var(--fill-color);\n",
              "    }\n",
              "    60% {\n",
              "      border-color: transparent;\n",
              "      border-right-color: var(--fill-color);\n",
              "    }\n",
              "    80% {\n",
              "      border-color: transparent;\n",
              "      border-right-color: var(--fill-color);\n",
              "      border-bottom-color: var(--fill-color);\n",
              "    }\n",
              "    90% {\n",
              "      border-color: transparent;\n",
              "      border-bottom-color: var(--fill-color);\n",
              "    }\n",
              "  }\n",
              "</style>\n",
              "\n",
              "  <script>\n",
              "    async function quickchart(key) {\n",
              "      const quickchartButtonEl =\n",
              "        document.querySelector('#' + key + ' button');\n",
              "      quickchartButtonEl.disabled = true;  // To prevent multiple clicks.\n",
              "      quickchartButtonEl.classList.add('colab-df-spinner');\n",
              "      try {\n",
              "        const charts = await google.colab.kernel.invokeFunction(\n",
              "            'suggestCharts', [key], {});\n",
              "      } catch (error) {\n",
              "        console.error('Error during call to suggestCharts:', error);\n",
              "      }\n",
              "      quickchartButtonEl.classList.remove('colab-df-spinner');\n",
              "      quickchartButtonEl.classList.add('colab-df-quickchart-complete');\n",
              "    }\n",
              "    (() => {\n",
              "      let quickchartButtonEl =\n",
              "        document.querySelector('#df-8d309884-2f9e-464f-9d17-a200a581d8ee button');\n",
              "      quickchartButtonEl.style.display =\n",
              "        google.colab.kernel.accessAllowed ? 'block' : 'none';\n",
              "    })();\n",
              "  </script>\n",
              "</div>\n",
              "\n",
              "    </div>\n",
              "  </div>\n"
            ],
            "application/vnd.google.colaboratory.intrinsic+json": {
              "type": "dataframe",
              "summary": "{\n  \"name\": \"generate_dataframe(ano)\",\n  \"rows\": 11,\n  \"fields\": [\n    {\n      \"column\": \"Col1\",\n      \"properties\": {\n        \"dtype\": \"object\",\n        \"num_unique_values\": 11,\n        \"samples\": [\n          \"2024-06-28 00:00:00\",\n          \"2024-01-31 00:00:00\",\n          \"2024-10-31 00:00:00\"\n        ],\n        \"semantic_type\": \"\",\n        \"description\": \"\"\n      }\n    },\n    {\n      \"column\": \"Col2\",\n      \"properties\": {\n        \"dtype\": \"category\",\n        \"num_unique_values\": 5,\n        \"samples\": [\n          \"Thursday\",\n          \"Monday\",\n          \"Friday\"\n        ],\n        \"semantic_type\": \"\",\n        \"description\": \"\"\n      }\n    }\n  ]\n}"
            }
          },
          "metadata": {},
          "execution_count": 74
        }
      ]
    },
    {
      "cell_type": "code",
      "execution_count": 71,
      "metadata": {
        "nbgrader": {
          "grade": false,
          "grade_id": "cell-c705ab9d11473b9f9",
          "locked": false,
          "schema_version": 3,
          "solution": true,
          "task": false
        },
        "id": "nIwk6_SnP60Z"
      },
      "outputs": [],
      "source": [
        "prompt86 = \"\"\"Gerar um codigo utilizando a biblioteca datetime leia como argumento um núemro correspondente a um ano.\n",
        "Ao usar em datetime use datetime.datetime e datetime.timedelta.\n",
        "O código deve retornar um dataframe com duas colunas 'Col1' e 'Col2'.\n",
        "A Col1 deve conter a data do ultimo dia de cada mês (os meses devem estar no intervalo de 1 a 12) que não sejam sábado e domingo, espaço, o horário '00:00:00'.\n",
        "Por exemplos: '2024-01-31 00:00:00'  e  '2024-03-29 00:00:00'. As informações devem estar no formato string.\n",
        "A Col2 deve retorna uma string com o dia da semana da respectiva data na lingua inglesa. Exemplo: 'Wednesday' e 'Friday'\n",
        "\"\"\"\n"
      ]
    },
    {
      "cell_type": "code",
      "execution_count": 72,
      "metadata": {
        "id": "bzLWdmZNCT90",
        "colab": {
          "base_uri": "https://localhost:8080/"
        },
        "outputId": "75dd9421-bb7a-4346-e0bb-64c76346e6bb"
      },
      "outputs": [
        {
          "output_type": "stream",
          "name": "stdout",
          "text": [
            "Codigo gerado: \n",
            "def generate_dataframe(year):\n",
            "\n",
            "\n",
            "    last_days = []\n",
            "    week_days = []\n",
            "\n",
            "    for month in range(1, 13):\n",
            "        # Get the last day of the month\n",
            "        last_day = datetime(year, month + 1, 1) - timedelta(days=1)\n",
            "        # Adjust to go back to the last weekday if it falls on Saturday or Sunday\n",
            "        while last_day.weekday() in (5, 6):  # 5 = Saturday, 6 = Sunday\n",
            "            last_day -= timedelta(days=1)\n",
            "        \n",
            "        last_days.append(f\"{last_day.strftime('%Y-%m-%d')} 00:00:00\")\n",
            "        week_days.append(last_day.strftime('%A'))\n",
            "\n",
            "    df = pd.DataFrame({'Col1': last_days, 'Col2': week_days})\n",
            "    return df\n",
            "\n",
            "❌ Failed the Test Case:\n",
            "  Expected: {'data': {'aggregation_checks': {'sum': {}, 'total_rows': {'max': 12, 'min': 12}}, 'columns': ['Col1', 'Col2'], 'dtypes': {'Col1': 'datetime64[ns]', 'Col2': 'object'}, 'sample_rows': [{'expected_values': {'Col2': 'Wednesday'}, 'filter': {'Col1': '2024-01-31'}}, {'expected_values': {'Col2': 'Tuesday'}, 'filter': {'Col1': '2024-12-31'}}]}, 'type': 'dataframe', 'validation_rules': {'round_decimals': 1, 'row_match_threshold': 0.01, 'tolerance': 3}}\n",
            "  Error: Error while running your function: 'module' object is not callable. Did you mean: 'datetime.datetime(...)'?\n",
            "\n",
            "Prompt Feedback: Seu código apresenta algumas áreas que podem ser melhoradas. Aqui estão alguns pontos a serem considerados:\n",
            "\n",
            "1. **Faltou o Controle sobre a Data**: O prompt menciona que as datas devem corresponder ao \"último dia útil\" de cada mês. Você considerou como deve ser tratado o último dia do mês que cai num sábado ou domingo, mas o código parece não estar lidando com isso efetivamente. Como você poderia garantir que a data final esteja sempre correta e que não caia em um dia não útil?\n",
            "\n",
            "2. **Formato de Saída**: O prompt especifica que a coluna 'Col1' deve estar no formato string, incluindo a hora '00:00:00'. No seu código, você está formatando a data corretamente, mas é importante garantir que o formato final esteja claro em relação à instrução original. Poderia revisar como isso é realizado e se o formato está de acordo com o esperado?\n",
            "\n",
            "A partir dessas observações, pense sobre como você pode aprimorar seu código para atender aos requisitos mencionados no prompt.\n"
          ]
        }
      ],
      "source": [
        "\n",
        "validate(prompt86, \"A8-E6\")"
      ]
    },
    {
      "cell_type": "markdown",
      "metadata": {
        "id": "AFrMfPFDAwRv"
      },
      "source": [
        "### 8.7 Escreva um prompt de uma função python para realizar a transformação monstrada no exemplo a seguir.\n",
        "#### **Dica:** O pandas só faz conta de datas dados do tipo datetime. Com o tipo string não é possível fazer operações matematicas de data.\n",
        "#### Entrada:\n",
        "```\n",
        "{\n",
        "    'Start Date': ['2021-05-01', '2021-06-15', '2021-07-20'],\n",
        "    'End Date': ['2021-05-10', '2021-06-25', '2021-08-01']\n",
        "}\n",
        "```\n",
        "\n",
        "#### Saída:\n",
        "\n",
        "|    | Start Date          | End Date            |   Difference |\n",
        "|---:|:--------------------|:--------------------|-------------:|\n",
        "|  0 | 2021-07-20 00:00:00 | 2021-08-01 00:00:00 |           12 |\n"
      ]
    },
    {
      "cell_type": "code",
      "execution_count": null,
      "metadata": {
        "id": "DNVMsFBmJ5vd"
      },
      "outputs": [],
      "source": [
        "d8_7_1 = {\n",
        "    'Start Date': ['2021-05-01', '2021-06-15', '2021-07-20'],\n",
        "    'End Date': ['2021-05-10', '2021-06-25', '2021-08-01']\n",
        "}"
      ]
    },
    {
      "cell_type": "code",
      "execution_count": null,
      "metadata": {
        "id": "DXVdoZdlCUb3",
        "nbgrader": {
          "grade": false,
          "grade_id": "cell-c705ab9d11473b9f9",
          "locked": false,
          "schema_version": 3,
          "solution": true,
          "task": false
        }
      },
      "outputs": [],
      "source": [
        "prompt87 = \"\"\"AQUI\"\"\""
      ]
    },
    {
      "cell_type": "code",
      "execution_count": null,
      "metadata": {
        "id": "luQuTo5-CUb5"
      },
      "outputs": [],
      "source": [
        "validate(prompt87, \"A8-E7\")"
      ]
    },
    {
      "cell_type": "markdown",
      "metadata": {
        "id": "rSBuKF2fAwrP"
      },
      "source": [
        "### 8.8 Escreva um prompt de uma função python para realizar a transformação monstrada no exemplo a seguir.\n",
        "#### **Dica:** número de semanas completas\n",
        "#### Entrada 1:\n",
        "```\n",
        "{\n",
        "    'Event': ['Event A', 'Event B', 'Event C'],\n",
        "    'Start Date': ['2023-01-05', '2023-02-15', '2023-07-20'],\n",
        "    'End Date': ['2023-02-10', '2023-03-28', '2023-08-01']\n",
        "}\n",
        "```\n",
        "\n",
        "\n",
        "#### Saída: um dataframe igual a este\n",
        "\n",
        "|    | Event   | Start Date          | End Date            |   Difference |   Full Weeks Difference |\n",
        "|---:|:--------|:--------------------|:--------------------|-------------:|------------------------:|\n",
        "|  0 | Event A | 2023-01-05 00:00:00 | 2023-02-10 00:00:00 |           36 |                       5 |\n",
        "|  1 | Event B | 2023-02-15 00:00:00 | 2023-03-28 00:00:00 |           41 |                       5 |\n",
        "|  2 | Event C | 2023-07-20 00:00:00 | 2023-08-01 00:00:00 |           12 |                       1 |\n",
        "\n"
      ]
    },
    {
      "cell_type": "code",
      "execution_count": null,
      "metadata": {
        "id": "olo5R2k_J4jI"
      },
      "outputs": [],
      "source": [
        "d8_8_1 = {\n",
        "    'Event': ['Event A', 'Event B', 'Event C'],\n",
        "    'Start Date': ['2023-01-05', '2023-02-15', '2023-07-20'],\n",
        "    'End Date': ['2023-02-10', '2023-03-28', '2023-08-01']\n",
        "}"
      ]
    },
    {
      "cell_type": "code",
      "execution_count": null,
      "metadata": {
        "id": "PseMbwuxCU09",
        "nbgrader": {
          "grade": false,
          "grade_id": "cell-c705ab9d11473b9f9",
          "locked": false,
          "schema_version": 3,
          "solution": true,
          "task": false
        }
      },
      "outputs": [],
      "source": [
        "prompt88 = \"\"\"AQUI\"\"\""
      ]
    },
    {
      "cell_type": "code",
      "execution_count": null,
      "metadata": {
        "id": "rN3j4g7TCU1C"
      },
      "outputs": [],
      "source": [
        "validate(prompt88, \"A8-E8\")"
      ]
    },
    {
      "cell_type": "code",
      "execution_count": null,
      "metadata": {
        "id": "IoFYhlp1Jnwf"
      },
      "outputs": [],
      "source": []
    },
    {
      "cell_type": "markdown",
      "metadata": {
        "id": "9cTqrAw0IXaY"
      },
      "source": [
        "### Exercício de Reflexão (Facultativo)\n",
        "#### Você aprendeu alguma coisa que pode ser reaproveitado em outros problemas?\n",
        "#### Como você pode melhorar seu processo de elaboração de requisitos / prompts?\n",
        "#### Você notou ambiguidade na sua especificação inicial?"
      ]
    },
    {
      "cell_type": "code",
      "execution_count": null,
      "metadata": {
        "id": "Y9yjEmHV2nKi"
      },
      "outputs": [],
      "source": [
        "resposta=\"\"\"AQUI\"\"\""
      ]
    },
    {
      "cell_type": "code",
      "execution_count": null,
      "metadata": {
        "id": "yLXjtjQaK6V1"
      },
      "outputs": [],
      "source": [
        "validate(resposta, \"A8-R1\")"
      ]
    }
  ],
  "metadata": {
    "celltoolbar": "Create Assignment",
    "colab": {
      "provenance": [],
      "include_colab_link": true
    },
    "kernelspec": {
      "display_name": "Python 3",
      "language": "python",
      "name": "python3"
    },
    "language_info": {
      "codemirror_mode": {
        "name": "ipython",
        "version": 3
      },
      "file_extension": ".py",
      "mimetype": "text/x-python",
      "name": "python",
      "nbconvert_exporter": "python",
      "pygments_lexer": "ipython3",
      "version": "3.8.3"
    },
    "name": "_merged",
    "varInspector": {
      "cols": {
        "lenName": 16,
        "lenType": 16,
        "lenVar": 40
      },
      "kernels_config": {
        "python": {
          "delete_cmd_postfix": "",
          "delete_cmd_prefix": "del ",
          "library": "var_list.py",
          "varRefreshCmd": "print(var_dic_list())"
        },
        "r": {
          "delete_cmd_postfix": ") ",
          "delete_cmd_prefix": "rm(",
          "library": "var_list.r",
          "varRefreshCmd": "cat(var_dic_list()) "
        }
      },
      "types_to_exclude": [
        "module",
        "function",
        "builtin_function_or_method",
        "instance",
        "_Feature"
      ],
      "window_display": false
    }
  },
  "nbformat": 4,
  "nbformat_minor": 0
}